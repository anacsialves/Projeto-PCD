{
 "cells": [
  {
   "cell_type": "code",
   "execution_count": 7,
   "id": "0710bd9a-df12-4872-a786-05e5a5068f19",
   "metadata": {},
   "outputs": [],
   "source": [
    "def disjunçao(listaA, listaB):\n",
    "\n",
    "    lista_disj = []\n",
    "\n",
    "    for a, b in zip(listaA, listaB):\n",
    "        if a == \"F\" and b ==\"F\":\n",
    "            lista_disj.append(\"F\")\n",
    "        else:\n",
    "            lista_disj.append(\"V\")\n",
    "        \n",
    "    return lista_disj"
   ]
  },
  {
   "cell_type": "code",
   "execution_count": 15,
   "id": "e5cfd49c-9519-45dd-837f-f30ce916eba1",
   "metadata": {},
   "outputs": [
    {
     "name": "stdin",
     "output_type": "stream",
     "text": [
      "Digite o que você quer verificar se é uma tautologia: A < B\n"
     ]
    }
   ],
   "source": [
    "FBF = input(\"Digite o que você quer verificar se é uma tautologia:\")"
   ]
  },
  {
   "cell_type": "code",
   "execution_count": 16,
   "id": "4ba23653-75a1-4b21-b3f7-b669db7e245c",
   "metadata": {},
   "outputs": [],
   "source": [
    "listaA = [\"V\", \"V\", \"F\", \"F\"]\n",
    "listaB = [\"V\", \"F\", \"V\", \"F\"]\n",
    "\n",
    "lista_das_listas = [listaA, listaB]"
   ]
  },
  {
   "cell_type": "code",
   "execution_count": 17,
   "id": "07c009e7-ef66-48a8-9768-92e6d445dac3",
   "metadata": {},
   "outputs": [],
   "source": [
    "def checa_tauto(FBF):\n",
    "    \n",
    "    #Essa primeira parte só divide aquilo que é função daquilo que é proposição\n",
    "    FBF_separado = FBF.split(\" \") #divisão FBF por espaços\n",
    "\n",
    "    lista_conectivos = []\n",
    "    lista_letras = []\n",
    "    \n",
    "    for item in FBF_separado:\n",
    "        if item.isalnum() == True:\n",
    "            lista_letras.append(item)\n",
    "        else:\n",
    "            lista_conectivos.append(item)\n",
    "\n",
    "    print(lista_conectivos)\n",
    "    print(lista_letras)\n",
    "\n",
    "\n",
    "\n",
    "    \n",
    "\n",
    "    dicio = {       \n",
    "}\n",
    "\n",
    " #dicionario para atribuir valores verdade às strings (proposições) para poder usar nas funções\n",
    "\n",
    "    for lista, letra in zip(lista_das_listas, lista_letras):\n",
    "        dicio[letra] = lista\n",
    "\n",
    "    print(dicio)\n",
    "\n",
    "\n",
    "\n",
    "    if \"<\" in FBF_separado:\n",
    "        indice_disj1 = FBF_separado.index(\"<\") - 1   #pega o indice do item anterior à disjunção\n",
    "        indice_disj2 = FBF_separado.index(\"<\") + 1   #pega o indice do item seguinte à disjunção\n",
    " \n",
    "            \n",
    "        prop_correspondente1 = FBF_separado[indice_disj1]  #recupera o elemento do indice\n",
    "        prop_correspondente2 = FBF_separado[indice_disj2]  #recupera o elemento do indice \n",
    "\n",
    "        valor_disj = disjunçao(dicio[prop_correspondente1], dicio[prop_correspondente2]) #aplica a função na porposição que está no dicionário\n",
    " \n",
    "        \n",
    "    print(valor_disj)"
   ]
  },
  {
   "cell_type": "code",
   "execution_count": 18,
   "id": "00f56593-f851-438b-b31b-f13f6a3bc3fd",
   "metadata": {},
   "outputs": [
    {
     "name": "stdout",
     "output_type": "stream",
     "text": [
      "['<']\n",
      "['A', 'B']\n",
      "{'A': ['V', 'V', 'F', 'F'], 'B': ['V', 'F', 'V', 'F']}\n",
      "['V', 'V', 'V', 'F']\n"
     ]
    }
   ],
   "source": [
    "checa_tauto(FBF)"
   ]
  },
  {
   "cell_type": "code",
   "execution_count": null,
   "id": "5c2e50f4-5b63-4a18-b8d7-d853c7f3586f",
   "metadata": {},
   "outputs": [],
   "source": []
  },
  {
   "cell_type": "code",
   "execution_count": null,
   "id": "52bb08f4-d57b-4096-9eeb-5bf60386a385",
   "metadata": {},
   "outputs": [],
   "source": []
  }
 ],
 "metadata": {
  "kernelspec": {
   "display_name": "ilumpy",
   "language": "python",
   "name": "ilumpy"
  },
  "language_info": {
   "codemirror_mode": {
    "name": "ipython",
    "version": 3
   },
   "file_extension": ".py",
   "mimetype": "text/x-python",
   "name": "python",
   "nbconvert_exporter": "python",
   "pygments_lexer": "ipython3",
   "version": "3.12.7"
  }
 },
 "nbformat": 4,
 "nbformat_minor": 5
}
