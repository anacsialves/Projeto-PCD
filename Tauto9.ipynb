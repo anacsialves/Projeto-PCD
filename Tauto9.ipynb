{
 "cells": [
  {
   "cell_type": "markdown",
   "id": "995160dc-d5e7-4680-a656-34d8cfe6f5b1",
   "metadata": {},
   "source": [
    "# Projeto final de PCD: Testando Tautologias\n",
    "\n"
   ]
  },
  {
   "cell_type": "markdown",
   "id": "27979c94-5bf1-4199-8fbb-9d4caa244a01",
   "metadata": {},
   "source": [
    "### INTRODUÇÃO:"
   ]
  },
  {
   "cell_type": "markdown",
   "id": "ee661cde-c922-409c-a2fb-cdd5784d8812",
   "metadata": {},
   "source": [
    "A lógica proposicional é um tipo de lógica formal, que se baseia na relação de proposições (que podem ou ser falsas ou ser verdadeiras), através de símbolos e regras para analisar a estrutura e a validez dos argumentos, independentemente do seu conteúdo. Há um conjunto de conectivos válidos dentro da lógica proposicional, são eles: \n",
    "\n",
    "* Negação - inverte a valor de uma proposição, se ela for verdadeira, virará falsa (vice e versa). Ela pode ser escrita como \"não\".\n",
    "* Conjunção - retorna Verdadeiro somente se as duas proposições analisadas forem verdadeiras. Caso contrário, retorna Falso. Ela pode ser escrita como \"e\".\n",
    "* Disjunção - retorna Verdadeiro se pelo menos uma das proposições for verdadeira. Caso contrário, retorna Falso. Ela pode ser escrita como \"ou\", sendo esse um \"ou\" inclusivo.\n",
    "* Condicional - retorna Verdadeiro se a proposição antecedente for falsa ou se as duas proposições analisadas são verdadeiras. Caso contrário, retorna Falso. Ele pode ser escrito como \"então\".\n",
    "* Bicondicional - retorna Verdadeiro se as duas proposições analisadas são verdadeiras ou se as duas são falsas. Caso contrário, retorna Falso. Ele pode ser escrito como \"se, e somente se,\".\n",
    "\n",
    "Tautologia, no contexto da lógica proposicional, é uma fórmula cuja tabela verdade apresenta o valor Verdadeiro (V) em todas as possíveis combinações de valores das proposições envolvidas. Isso significa que, independentemente do valor lógico das proposições, o resultado final da expressão será sempre verdadeiro. Tautologias são importantes porque representam argumentos logicamente válidos sob qualquer circunstância.\n",
    "\n",
    "\n",
    "Nesse sentido, o projeto buscou elaborar um código capaz de checar tautologias a partir de frases que são convertidas em Fórmulas Bem Formuladas (FBFs), expressões lógicas válidas, as quais tem como elementos letras (proposições) e símbolos (conectivos). \n",
    "\n",
    "Desse modo, esse notebook funciona da seguinte maneira:\n",
    "\n",
    "* O código recebe a frase do usuário input \"FBF\" na seção \"Recebendo a frase\";\n",
    "* Essa frase é \"traduzida\" para uma FBF de acordo com a \"Tabela de tradução\" (que utiliza símbolos acessíveis no teclado do computador).\n",
    "* Na seção \"Recebendo frases de linguagem natural para A e B\" o usuário informa o que ele dedeja que seja a proposição A e a proposição B.\n",
    "* Ao rodar a última célula de código (na seção \"Testagem\")  usuário chama a função checa_tauto(FBF). Com isso, a FBF (já traduzida) começa a ser processada pela função e retorna a frase inserida indicando se é ou não uma tautologia, além de retornar a tabela verdade gerada no processo.\n",
    "\n",
    "O processamento dentro da função checa_tauto(FBF) considera as funções que foram criadas para cada um dos conectivos válidos, as quais processam as suas tabelas verdades correspondentes. \n",
    "\n",
    "\n",
    "\n",
    "  \n",
    "    \n",
    "    \n",
    "    "
   ]
  },
  {
   "cell_type": "markdown",
   "id": "1fddfef0-bf0f-4995-ba1d-9eac63a7b94e",
   "metadata": {},
   "source": [
    "## Tabela de tradução\n",
    "Essa tabela serve como instrução para converter a frase recebida em uma FBF. Essa conversão é feita automaticamente pelo código."
   ]
  },
  {
   "cell_type": "code",
   "execution_count": 1,
   "id": "5631a3a6-e5d9-4110-b7df-f5fce00b513d",
   "metadata": {},
   "outputs": [
    {
     "name": "stdout",
     "output_type": "stream",
     "text": [
      "+---------------+-----------------+------------+\n",
      "| Conectivo     | Escreva:        | Símbolo:   |\n",
      "+===============+=================+============+\n",
      "| Negação       | não             | ~          |\n",
      "+---------------+-----------------+------------+\n",
      "| Condicional   | então           | ->         |\n",
      "+---------------+-----------------+------------+\n",
      "| Bicondicional | se e somente se | <>         |\n",
      "+---------------+-----------------+------------+\n",
      "| Conjunção     | e               | ^          |\n",
      "+---------------+-----------------+------------+\n",
      "| Disjunção     | ou              | <          |\n",
      "+---------------+-----------------+------------+\n"
     ]
    }
   ],
   "source": [
    "from tabulate import tabulate\n",
    " \n",
    " \n",
    "a = [\n",
    "    [\"Negação\", \"não\", \"~\"], \n",
    "    [\"Condicional\", \"então\", \"->\"], \n",
    "    [\"Bicondicional\", \"se e somente se\", \"<>\"], \n",
    "    [\"Conjunção\", \"e\", \"^\"],\n",
    "    [\"Disjunção\", \"ou\", \"<\"]\n",
    "]\n",
    " \n",
    "# Cria nomes das colunas\n",
    "colunas = [\"Conectivo\", \"Escreva:\", \"Símbolo:\"]\n",
    " \n",
    "print(tabulate(a, headers=colunas, tablefmt=\"grid\"))"
   ]
  },
  {
   "cell_type": "markdown",
   "id": "7dd3321e-4aa0-4829-aa7f-02cc261726e0",
   "metadata": {},
   "source": [
    "## Funções para cada conectivo\n",
    "Essas funções são chamadas dentro da função principal para processar os valores \"V\" e \"F\" das proposições de acordo com o conectivo correspondente (há uma função para cada conectivo)."
   ]
  },
  {
   "cell_type": "markdown",
   "id": "0ef6700a-b95d-4561-9dab-1d60b74c159e",
   "metadata": {},
   "source": [
    "### Negação"
   ]
  },
  {
   "cell_type": "code",
   "execution_count": 2,
   "id": "0710bd9a-df12-4872-a786-05e5a5068f19",
   "metadata": {},
   "outputs": [],
   "source": [
    "def negaçao(lista):\n",
    "\n",
    "    \"\"\"Aplica o conectivo de negação na proposição recebida                                                                                                                     \n",
    "    Args:\n",
    "        lista: lista referente a proposição antes da negação, com valores de V e F                                                                                                                                                                                            \n",
    "    Returns:\n",
    "        lista_neg: lista negada, ou seja, com os valores de V e F invertidos.\"\"\"\n",
    "    \n",
    "    lista_neg = []\n",
    "\n",
    "    for a in lista:\n",
    "        if a == \"V\":\n",
    "            lista_neg.append(\"F\")\n",
    "        else:\n",
    "            lista_neg.append(\"V\")\n",
    "            \n",
    "    return lista_neg"
   ]
  },
  {
   "cell_type": "markdown",
   "id": "d2682c2a-a88e-4908-b76f-cb38193fe15e",
   "metadata": {},
   "source": [
    "### Conjunção"
   ]
  },
  {
   "cell_type": "code",
   "execution_count": 3,
   "id": "d0c63fd9-5300-49cf-8a05-a9304e592103",
   "metadata": {},
   "outputs": [],
   "source": [
    "def conjunçao(listaA, listaB):\n",
    "\n",
    "    \"\"\"Aplica o conectivo de conjunção considerando duas proposições\n",
    "    Args:\n",
    "      listaA: lista referente a proposição antes da conjunção, com valores de V e F\n",
    "      listaB: lista referente a proposição depois da conjunção, com valores de V e F                                                                                                                                       \n",
    "    Returns:\n",
    "      lista_conj: uma lista  de V e F que surge a partir da aplicação do conectivo lógico \"conjunção\" nas duas proposições recebidas pela função.\"\"\"\n",
    "\n",
    "    lista_conj = []\n",
    "\n",
    "    for a, b in zip(listaA, listaB):\n",
    "        if a == \"V\" and b ==\"V\":\n",
    "            lista_conj.append(\"V\")\n",
    "        else:\n",
    "            lista_conj.append(\"F\")\n",
    "            \n",
    "    return lista_conj"
   ]
  },
  {
   "cell_type": "markdown",
   "id": "2435bf62-d050-4664-8f7f-a0523fb1d3af",
   "metadata": {},
   "source": [
    "### Disjunção"
   ]
  },
  {
   "cell_type": "code",
   "execution_count": 4,
   "id": "337ff8db-0d1b-443b-b01e-1023ab61a124",
   "metadata": {},
   "outputs": [],
   "source": [
    "def disjunçao(listaA, listaB):\n",
    "\n",
    "    \"\"\"Aplica o conectivo de disjunção considerando duas proposições\n",
    "    Args:\n",
    "      listaA: lista referente a proposição antes da disjunção, com valores de V e F\n",
    "      listaB: lista referente a proposição depois da disjunção, com valores de V e F                                                                                                                                       \n",
    "    Returns:\n",
    "      lista_disj: uma lista de V e F que surge a partir da aplicação do conectivo lógico \"disjunção\" nas duas proposições recebidas pela função.\"\"\"\n",
    "\n",
    "    lista_disj = []\n",
    "\n",
    "    for a, b in zip(listaA, listaB):\n",
    "        if a == \"F\" and b ==\"F\":\n",
    "            lista_disj.append(\"F\")\n",
    "        else:\n",
    "            lista_disj.append(\"V\")\n",
    "        \n",
    "    return lista_disj"
   ]
  },
  {
   "cell_type": "markdown",
   "id": "7316f4ce-6577-4157-af6f-32b1083a1b17",
   "metadata": {},
   "source": [
    "### Condicional"
   ]
  },
  {
   "cell_type": "code",
   "execution_count": 5,
   "id": "cc02bb18-2a78-4cc9-a656-41ee11aa85a1",
   "metadata": {},
   "outputs": [],
   "source": [
    "def condicional(listaA, listaB):\n",
    "    \n",
    "    \"\"\"Aplica o conectivo de condicional considerando duas proposições\n",
    "    Args:\n",
    "      listaA: lista referente a proposição antes do condicional, com valores de V e F\n",
    "      listaB: lista referente a proposição depois do condicional, com valores de V e F                                                                                                                                       \n",
    "    Returns:\n",
    "      lista_cond: uma lista  de V e F que surge a partir da aplicação do conectivo lógico \"condicional\" nas duas proposições recebidas pela função.\"\"\"\n",
    "\n",
    "    lista_cond = []\n",
    "\n",
    "    for a, b in zip(listaA, listaB):\n",
    "        if a == \"V\" and b ==\"F\":\n",
    "            lista_cond.append(\"F\")\n",
    "        else:\n",
    "            lista_cond.append(\"V\")\n",
    "        \n",
    "    return lista_cond"
   ]
  },
  {
   "cell_type": "markdown",
   "id": "d5524ba0-07c7-47d4-98de-0e8a1e188b68",
   "metadata": {},
   "source": [
    "### Bicondicional"
   ]
  },
  {
   "cell_type": "code",
   "execution_count": 6,
   "id": "bc65d337-5525-4a20-b6e5-b97873edd4d7",
   "metadata": {},
   "outputs": [],
   "source": [
    "def bicondicional(listaA, listaB):\n",
    "    \n",
    "    \"\"\"Aplica o conectivo de bicondicional considerando duas proposições\n",
    "    Args:\n",
    "      listaA: lista referente a proposição antes da bicondicional, com valores de V e F\n",
    "      listaB: lista referente a proposição depois da bicondicional, com valores de V e F                                                                                                                                       \n",
    "    Returns:\n",
    "      lista_bicond: uma lista de V e F que surge a partir da aplicação do conectivo lógico \"bicondicional\" nas duas proposições recebidas pela função.\"\"\"\n",
    "\n",
    "    lista_bicond = []\n",
    "\n",
    "    for a, b in zip(listaA, listaB):\n",
    "        if a == b:\n",
    "            lista_bicond.append(\"V\")\n",
    "        else:\n",
    "            lista_bicond.append(\"F\")\n",
    "\n",
    "    return lista_bicond"
   ]
  },
  {
   "cell_type": "markdown",
   "id": "6fb79d11-5e34-4f4f-8a24-e4bb78d17e1d",
   "metadata": {
    "jp-MarkdownHeadingCollapsed": true
   },
   "source": [
    "## Recebendo a \"frase\"\n",
    "Esse é o input gerado para receber a frase do usuário. A frase deve seguir o seguinte modelo: \n",
    "ter uma ou duas proposições, chamadas de A e B.\n",
    "Os conectivos devem ser escritos da seguinte maneira:\n",
    "\n",
    "* negação - não\n",
    "* condicional - então\n",
    "* bicondicional - se e somente se\n",
    "* conjunção - e\n",
    "* disjunção - ou\n",
    "\n",
    "Observação: não repetir conectivos\n",
    "\n",
    "Exemplo de frase recebida pelo input: A e B então A\n"
   ]
  },
  {
   "cell_type": "code",
   "execution_count": 60,
   "id": "e5cfd49c-9519-45dd-837f-f30ce916eba1",
   "metadata": {},
   "outputs": [
    {
     "name": "stdin",
     "output_type": "stream",
     "text": [
      "Digite o que você quer verificar se é uma tautologia:  A e B então A\n"
     ]
    }
   ],
   "source": [
    "FBF = input(\"Digite o que você quer verificar se é uma tautologia:\")"
   ]
  },
  {
   "cell_type": "markdown",
   "id": "1152097a-75c4-437c-b1d1-35005245fe53",
   "metadata": {},
   "source": [
    "## Aplicando a tradução\n",
    "\n",
    "\"Traduz\" a frase para o formato de FBF, utilizando símbolos de acordo com a \"Tabela de tradução\"."
   ]
  },
  {
   "cell_type": "code",
   "execution_count": 61,
   "id": "4bcd758f-5841-4333-931e-ae131019b8bd",
   "metadata": {},
   "outputs": [
    {
     "name": "stdout",
     "output_type": "stream",
     "text": [
      "FBF original =  A e B então A\n",
      "cópia traduzida =  A ^ B -> A\n"
     ]
    }
   ],
   "source": [
    "FBF_copia = FBF\n",
    "\n",
    "FBF_copia = FBF_copia.replace(\"não\",\"~\")\n",
    "FBF_copia = FBF_copia.replace(\"então\",\"->\")\n",
    "FBF_copia = FBF_copia.replace(\"se e somente se\",\"<>\")\n",
    "FBF_copia = FBF_copia.replace (\"e\",\"^\")\n",
    "FBF_copia = FBF_copia.replace(\"ou\",\"<\")\n",
    "\n",
    "print(f\"FBF original = {FBF}\")\n",
    "print(f\"cópia traduzida = {FBF_copia}\")"
   ]
  },
  {
   "cell_type": "markdown",
   "id": "117d9e60-031e-44ea-858a-8ab5013f80cc",
   "metadata": {},
   "source": [
    "## Recebendo frases de linguagem natural para A e B:\n",
    "\n",
    "Pede para o usuário informar o que ele deseja que seja a proposição A e a proposição B.\n",
    "Esse passo não é obrigatório para provar se a frase proposta pelo usuário é uma tautologia, porém, deixa a frase mais concreta para o usuário.\n",
    "\n",
    "Exemplo:\n",
    "\n",
    "* a proposição A (primeira proposição) pode ser: está chovendo\n",
    "* a proposição B (segunda proposição) pode ser: o chão está molhado\n",
    "\n",
    "Elas são proposições pois são afirmações que podem ser verdadeiras ou falsas."
   ]
  },
  {
   "cell_type": "code",
   "execution_count": 69,
   "id": "a26f4458-ee00-4872-a369-d81ea876b4cd",
   "metadata": {},
   "outputs": [
    {
     "name": "stdin",
     "output_type": "stream",
     "text": [
      "Primeira proposição: está chovendo\n",
      "Segunda proposição: o chão está molhado\n"
     ]
    },
    {
     "name": "stdout",
     "output_type": "stream",
     "text": [
      "A afirmação que você quer verificar se é tautologia é:  está chovendo e o chão está molhado então está chovendo\n"
     ]
    }
   ],
   "source": [
    "propA = input(\"Primeira proposição:\")\n",
    "propB = input(\"Segunda proposição:\")\n",
    "\n",
    "FBF_nat = FBF\n",
    "FBF_nat = FBF_nat.replace(\"não\", \"nego que\")\n",
    "FBF_nat = FBF_nat.replace(\"A\" , propA)\n",
    "FBF_nat = FBF_nat.replace(\"B\" , propB)\n",
    "\n",
    "print(\"A afirmação que você quer verificar se é tautologia é:\", FBF_nat)"
   ]
  },
  {
   "cell_type": "markdown",
   "id": "01d22b6b-aebc-498c-815f-b5ca28219587",
   "metadata": {},
   "source": [
    "## Função Principal\n",
    "Essa é a função principal, pois é responsável por checar as tautologias. Ela recebe como argumento a frase já convertida em FBF. Os conectivos e proposições dessa FBF são processados para chamar as funções dos conectivos correspondentes e, então, retornar os valores lógicos (V ou F) da FBF e verificar se eles indicam uma tautologia.\n"
   ]
  },
  {
   "cell_type": "code",
   "execution_count": 63,
   "id": "4ba23653-75a1-4b21-b3f7-b669db7e245c",
   "metadata": {},
   "outputs": [],
   "source": [
    "listaA = [\"V\", \"V\", \"F\", \"F\"]\n",
    "listaB = [\"V\", \"F\", \"V\", \"F\"]\n",
    "\n",
    "lista_das_listas = [listaA, listaB]"
   ]
  },
  {
   "cell_type": "code",
   "execution_count": 67,
   "id": "07c009e7-ef66-48a8-9768-92e6d445dac3",
   "metadata": {},
   "outputs": [],
   "source": [
    "from tabulate import tabulate\n",
    "\n",
    "def checa_tauto(FBF):\n",
    "    \"\"\" Processa A FBF gerada a partir da entrada do usuário. Chama as demais funções quando são necessárias.\n",
    "    Args:\n",
    "        FBF: Uma fórmula bem formulada (string) com no máximo duas proposições.\n",
    "    Returns:\n",
    "        Retorna por escrito se a FBF é ou não uma tautologia.\n",
    "    \"\"\"\n",
    "    \n",
    "    # divisão FBF por espaços\n",
    "    FBF_separado = FBF_copia.split(\" \")\n",
    "\n",
    "    lista_conectivos = []\n",
    "    lista_letras = []\n",
    "    \n",
    "    for item in FBF_separado:\n",
    "        if item.isalnum() == True:\n",
    "            lista_letras.append(item)\n",
    "        else:\n",
    "            lista_conectivos.append(item)\n",
    "\n",
    "\n",
    "    # Dicionário para atribuir valores verdade às strings (proposições) para poder usar nas funções:\n",
    "    dicio = {       \n",
    "}\n",
    "\n",
    "    for lista, letra in zip(lista_das_listas, lista_letras):\n",
    "        dicio[letra] = lista\n",
    "\n",
    "    print(dicio)\n",
    "\n",
    "    # Aplicando negação:\n",
    "\n",
    "    if \"~\" in FBF_separado:\n",
    "        indice_simbolo = FBF_separado.index(\"~\")\n",
    "\n",
    "        # Pega o índice do item seguinte à negação:\n",
    "        indice_neg = FBF_separado.index(\"~\") + 1\n",
    "\n",
    "        # Recupera o elemento do índice\n",
    "        prop_correspondente = FBF_separado[indice_neg]\n",
    "\n",
    "        # Aplica a função no valor da proposição que está no dicionário:\n",
    "        valor_negado = negaçao(dicio [prop_correspondente])\n",
    "\n",
    "        FBF_separado[indice_neg] = f\"~ {prop_correspondente}\"\n",
    "        FBF_separado.pop(indice_simbolo)\n",
    "\n",
    "        dicio[f\"~ {prop_correspondente}\"] = valor_negado\n",
    "\n",
    "    \n",
    "    # Aplicando conjunção:\n",
    "\n",
    "    if \"^\" in FBF_separado:\n",
    "        indice_simbolo = FBF_separado.index(\"^\")\n",
    "        \n",
    "        # Pega o índice do item seguinte à conjunção:\n",
    "        indice_conj1 = FBF_separado.index(\"^\") - 1\n",
    "\n",
    "        # Pega o índice do item anterior à conjunção:\n",
    "        indice_conj2 = FBF_separado.index(\"^\") + 1\n",
    "\n",
    "        # Recupera o elemento do índice:\n",
    "        prop_correspondente1 = FBF_separado[indice_conj1]\n",
    "        prop_correspondente2 = FBF_separado[indice_conj2]\n",
    "\n",
    "        # Aplica a função no valor da proposição que está no dicionário\n",
    "        valor_conjunçao = conjunçao(dicio[prop_correspondente1], dicio[prop_correspondente2])\n",
    "\n",
    "        \n",
    "        FBF_separado[indice_conj2] = f\"{prop_correspondente1} ^ {prop_correspondente2}\"\n",
    "        FBF_separado.pop(indice_simbolo)\n",
    "        FBF_separado.pop(indice_conj1)\n",
    "    \n",
    "        dicio[f\"{prop_correspondente1} ^ {prop_correspondente2}\"] = valor_conjunçao\n",
    "        \n",
    "\n",
    "    # Aplicando disjunção:\n",
    "    if \"<\" in FBF_separado:\n",
    "        indice_simbolo = FBF_separado.index(\"<\")\n",
    "\n",
    "        # Pega o índice do item anterior à disjunção:\n",
    "        indice_disj1 = FBF_separado.index(\"<\") - 1\n",
    "\n",
    "        # Pega o índice do item seguinte à disjunção:\n",
    "        indice_disj2 = FBF_separado.index(\"<\") + 1\n",
    "\n",
    "        # Recupera o elemento do índice:\n",
    "        prop_correspondente1 = FBF_separado[indice_disj1]\n",
    "        \n",
    "        # Recupera o elemento do índice:\n",
    "        prop_correspondente2 = FBF_separado[indice_disj2]\n",
    "\n",
    "        # Aplica a função na proposição que está no dicionário:\n",
    "        valor_disjunçao = disjunçao(dicio[prop_correspondente1], dicio[prop_correspondente2])\n",
    "\n",
    "        FBF_separado[indice_disj2] = f\"{prop_correspondente1} < {prop_correspondente2}\"\n",
    "        FBF_separado.pop(indice_simbolo)\n",
    "        FBF_separado.pop(indice_disj1)\n",
    "    \n",
    "        dicio[f\"{prop_correspondente1} < {prop_correspondente2}\"] = valor_disjunçao\n",
    "        \n",
    "\n",
    "    # Aplicando condicional:\n",
    "\n",
    "    if \"->\" in FBF_separado:\n",
    "        indice_simbolo = FBF_separado.index(\"->\")\n",
    "        \n",
    "        # Pega o índice do item anerior ao condicional:\n",
    "        indice_cond1 = FBF_separado.index(\"->\") - 1\n",
    "\n",
    "        # Pega o índice do item após o condicional:\n",
    "        indice_cond2 = FBF_separado.index(\"->\") + 1\n",
    "\n",
    "        # Recupera a proposição 1 a partir do índice\n",
    "        prop_correspondente1 = FBF_separado[indice_cond1]\n",
    "\n",
    "        # Recupera a proposição 2 a partir do índice\n",
    "        prop_correspondente2 = FBF_separado[indice_cond2]\n",
    "\n",
    "        # Aplica a função no valor da proposição que está no dicionario\n",
    "        valor_condicional = condicional(dicio[prop_correspondente1], dicio[prop_correspondente2])\n",
    "\n",
    "        FBF_separado[indice_cond2] = f\"{prop_correspondente1} -> {prop_correspondente2}\"\n",
    "        FBF_separado.pop(indice_simbolo)\n",
    "        FBF_separado.pop(indice_cond1)\n",
    "    \n",
    "        dicio[f\"{prop_correspondente1} -> {prop_correspondente2}\"] = valor_condicional\n",
    "        \n",
    "\n",
    "    \n",
    "    if \"<>\" in FBF_separado:\n",
    "        indice_simbolo = FBF_separado.index(\"<>\")\n",
    "\n",
    "        # Pega o índice do item anterior ao condicional:\n",
    "        indice_bicond1 = FBF_separado.index(\"<>\") - 1\n",
    "\n",
    "        # Pega o índice do item após o condicional:\n",
    "        indice_bicond2 = FBF_separado.index(\"<>\") + 1\n",
    "\n",
    "        # Recupera a proposição 1 a partir do índice\n",
    "        prop_correspondente1 = FBF_separado[indice_bicond1]\n",
    "\n",
    "        # Recupera a proposição 2 a partir do índice\n",
    "        prop_correspondente2 = FBF_separado[indice_bicond2]\n",
    "\n",
    "        # Aplica a função no valor da proposição que está no dicionário\n",
    "        valor_bicondicional = bicondicional(dicio[prop_correspondente1], dicio[prop_correspondente2])\n",
    "\n",
    "        FBF_separado[indice_bicond2] = f\"{prop_correspondente1} <> {prop_correspondente2}\"\n",
    "        FBF_separado.pop(indice_simbolo)\n",
    "        FBF_separado.pop(indice_bicond1)\n",
    "    \n",
    "        dicio[f\"{prop_correspondente1} <> {prop_correspondente2}\"] = valor_bicondicional\n",
    "        \n",
    "\n",
    "    lista_dicio = list(dicio.keys())\n",
    "    ultimo_valor = lista_dicio[-1]\n",
    "    lista_final = dicio[ultimo_valor]\n",
    "\n",
    "    \n",
    "    print(tabulate(dicio, headers=\"keys\", tablefmt=\"grid\"))    \n",
    "    if lista_final == [\"V\", \"V\", \"V\", \"V\"]:\n",
    "        return (f'\"{FBF}\" é uma TAUTOLOGIA!!!')\n",
    "    else:\n",
    "        return (f'\"{FBF}\" NÃO é uma TAUTOLOGIA!!')"
   ]
  },
  {
   "cell_type": "markdown",
   "id": "241fc7b7-e3e4-450c-98bb-6417dfae8392",
   "metadata": {},
   "source": [
    "### TESTAGEM:\n",
    "\n",
    "Chama a função principal para checar se é tautologia"
   ]
  },
  {
   "cell_type": "code",
   "execution_count": 68,
   "id": "00f56593-f851-438b-b31b-f13f6a3bc3fd",
   "metadata": {},
   "outputs": [
    {
     "name": "stdout",
     "output_type": "stream",
     "text": [
      "{'A': ['V', 'V', 'F', 'F'], 'B': ['V', 'F', 'V', 'F']}\n",
      "+-----+-----+---------+--------------+\n",
      "| A   | B   | A ^ B   | A ^ B -> A   |\n",
      "+=====+=====+=========+==============+\n",
      "| V   | V   | V       | V            |\n",
      "+-----+-----+---------+--------------+\n",
      "| V   | F   | F       | V            |\n",
      "+-----+-----+---------+--------------+\n",
      "| F   | V   | F       | V            |\n",
      "+-----+-----+---------+--------------+\n",
      "| F   | F   | F       | V            |\n",
      "+-----+-----+---------+--------------+\n"
     ]
    },
    {
     "data": {
      "text/plain": [
       "'\" A e B então A\" é uma TAUTOLOGIA!!!'"
      ]
     },
     "execution_count": 68,
     "metadata": {},
     "output_type": "execute_result"
    }
   ],
   "source": [
    "checa_tauto(FBF)"
   ]
  },
  {
   "cell_type": "markdown",
   "id": "21fd2d1a-f09e-4be1-b97a-2c4fb22fdc02",
   "metadata": {},
   "source": [
    "### CONCLUSÃO:"
   ]
  },
  {
   "cell_type": "markdown",
   "id": "1900ae7c-85c3-47a5-8936-925e2e499353",
   "metadata": {},
   "source": [
    "O projeto apresentado demonstra, por meio da linguagem de programação Python, como a lógica proposicional pode ser aplicada computacionalmente para identificar tautologias. Através da entrada de fórmulas bem formuladas (FBFs) e da construção automatizada de suas tabelas verdade, é possível verificar se uma expressão lógica é verdadeira em todas as combinações possíveis de valores das proposições envolvidas.\n",
    "\n",
    "Além de servir como ferramenta prática para estudantes da lógica, o notebook também reforça conceitos fundamentais como os conectivos lógicos, a estrutura das FBFs e o próprio conceito de tautologia. O uso do código para simular o raciocínio lógico permite explorar de forma interativa a validade das proposições sem depender de interpretações do conteúdo."
   ]
  },
  {
   "cell_type": "code",
   "execution_count": null,
   "id": "252b325d-6e84-4e8c-93f5-b538d82c4c5c",
   "metadata": {},
   "outputs": [],
   "source": []
  }
 ],
 "metadata": {
  "kernelspec": {
   "display_name": "ilumpy",
   "language": "python",
   "name": "ilumpy"
  },
  "language_info": {
   "codemirror_mode": {
    "name": "ipython",
    "version": 3
   },
   "file_extension": ".py",
   "mimetype": "text/x-python",
   "name": "python",
   "nbconvert_exporter": "python",
   "pygments_lexer": "ipython3",
   "version": "3.12.7"
  }
 },
 "nbformat": 4,
 "nbformat_minor": 5
}
