{
 "cells": [
  {
   "cell_type": "markdown",
   "id": "e599df47-d9b5-4190-b73b-86084dbc512f",
   "metadata": {},
   "source": [
    "# Provar uma Tautologia"
   ]
  },
  {
   "cell_type": "markdown",
   "id": "118188bc-600d-49e8-bfa5-249b47cd2a86",
   "metadata": {},
   "source": [
    "### Instruções para inserir sua proposição:\n",
    "escreva entre parenteses e com bicondicinal\n",
    "Exemplo: (A ou B) bicondicional (B ou A)\n",
    "V = ou\n",
    "/\\ = e\n",
    "<-> = bicondicional"
   ]
  },
  {
   "cell_type": "code",
   "execution_count": 17,
   "id": "e91ce9de-3a15-4bf2-b478-c144995c5cf6",
   "metadata": {},
   "outputs": [
    {
     "name": "stdin",
     "output_type": "stream",
     "text": [
      "Digite uma proposição A: está chovendo\n",
      "Digite uma proposição B: o chão está molhado\n",
      "Digite o que você quer verificar se é uma tautologia: A ou B\n"
     ]
    }
   ],
   "source": [
    "#Recebe as proposições e a fórmula bem formulada a ser verificada\n",
    "propA = input(\"Digite uma proposição A:\")\n",
    "propB = input(\"Digite uma proposição B:\")\n",
    "\n",
    "checa_tauto = input(\"Digite o que você quer verificar se é uma tautologia:\")"
   ]
  },
  {
   "cell_type": "code",
   "execution_count": 31,
   "id": "7a56efae-d4ac-4b9e-8e26-91797662b066",
   "metadata": {},
   "outputs": [],
   "source": [
    "listaA = [\"V\", \"V\", \"F\", \"F\"]\n",
    "listaB = [\"V\", \"F\", \"V\", \"F\"]"
   ]
  },
  {
   "cell_type": "code",
   "execution_count": 40,
   "id": "1f55e8e7-ed8a-4306-b41b-31b71a245a42",
   "metadata": {},
   "outputs": [],
   "source": [
    "def conjunçao(listaA, listaB):\n",
    "    \n",
    "    lista_conj = []\n",
    "\n",
    "    for a, b in zip(listaA, listaB):\n",
    "        if a == \"V\" and b ==\"V\":\n",
    "            lista_conj.append(\"V\")\n",
    "        else:\n",
    "            lista_conj.append(\"F\")\n",
    "            \n",
    "    return lista_conj"
   ]
  },
  {
   "cell_type": "code",
   "execution_count": 33,
   "id": "d980fb2f-25c1-4737-8dd3-b31413949efc",
   "metadata": {},
   "outputs": [],
   "source": [
    "def disjunçao(listaA, listaB):\n",
    "\n",
    "    lista_disj = []\n",
    "\n",
    "    for a, b in zip(listaA, listaB):\n",
    "        if a == \"F\" and b ==\"F\":\n",
    "            lista_disj.append(\"F\")\n",
    "        else:\n",
    "            lista_disj.append(\"V\")\n",
    "        \n",
    "    return lista_disj"
   ]
  },
  {
   "cell_type": "code",
   "execution_count": 41,
   "id": "e09038df-2280-47e3-8476-f58c1c2d9a2d",
   "metadata": {},
   "outputs": [
    {
     "data": {
      "text/plain": [
       "['V', 'F', 'F', 'F']"
      ]
     },
     "execution_count": 41,
     "metadata": {},
     "output_type": "execute_result"
    }
   ],
   "source": [
    "conjunçao(listaA, listaB)"
   ]
  },
  {
   "cell_type": "code",
   "execution_count": 37,
   "id": "c92322c4-d77b-4ae7-98ab-afee992a92df",
   "metadata": {},
   "outputs": [
    {
     "data": {
      "text/plain": [
       "['V', 'V', 'V', 'F']"
      ]
     },
     "execution_count": 37,
     "metadata": {},
     "output_type": "execute_result"
    }
   ],
   "source": [
    "disjunçao(listaA, listaB)"
   ]
  },
  {
   "cell_type": "code",
   "execution_count": null,
   "id": "7e2aded0-1984-4bf6-b633-496cc0c349c0",
   "metadata": {},
   "outputs": [],
   "source": [
    "def bicondicional(retorno_funçao1, retorno_funçao2):\n",
    "\n",
    "    return é_tautologia?"
   ]
  },
  {
   "cell_type": "code",
   "execution_count": 42,
   "id": "e059fc91-f8da-436a-b674-f62c43bc5082",
   "metadata": {},
   "outputs": [],
   "source": [
    "def condicional(retorno_funçao1, retorno_funçao2):\n",
    "\n",
    "    return é_tautologia?"
   ]
  }
 ],
 "metadata": {
  "kernelspec": {
   "display_name": "ilumpy",
   "language": "python",
   "name": "ilumpy"
  },
  "language_info": {
   "codemirror_mode": {
    "name": "ipython",
    "version": 3
   },
   "file_extension": ".py",
   "mimetype": "text/x-python",
   "name": "python",
   "nbconvert_exporter": "python",
   "pygments_lexer": "ipython3",
   "version": "3.12.7"
  }
 },
 "nbformat": 4,
 "nbformat_minor": 5
}
