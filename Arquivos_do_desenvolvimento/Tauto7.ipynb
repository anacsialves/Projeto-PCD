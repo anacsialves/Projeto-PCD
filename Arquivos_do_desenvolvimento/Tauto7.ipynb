{
 "cells": [
  {
   "cell_type": "markdown",
   "id": "995160dc-d5e7-4680-a656-34d8cfe6f5b1",
   "metadata": {},
   "source": [
    "# Projeto final de PCD: Testando Tautologias\n",
    "\n"
   ]
  },
  {
   "cell_type": "markdown",
   "id": "27979c94-5bf1-4199-8fbb-9d4caa244a01",
   "metadata": {},
   "source": [
    "### INTRODUÇÃO:"
   ]
  },
  {
   "cell_type": "markdown",
   "id": "ee661cde-c922-409c-a2fb-cdd5784d8812",
   "metadata": {},
   "source": [
    "A lógica proposicional é um tipo de lógica formal, que se baseia na relação de proposições (que podem ou ser falsas ou ser verdadeiras), através de símbolos e regras para analisar a estrutura e a validez dos argumentos, independentemente do seu conteúdo. Há um conjunto de conectivos válidos dentro da lógica proposicional, são eles: \n",
    "\n",
    "* Negação - inverte a valor de uma proposição, se ela for verdadeira, virará falsa (vice e versa). Ela pode ser escrita como \"não\".\n",
    "* Conjunção - retorna Verdadeiro somente se as duas proposições analisadas forem verdadeiras. Caso contrário, retorna Falso. Ela pode ser escrita como \"e\".\n",
    "* Disjunção - retorna Verdadeiro se pelo menos uma das proposições for verdadeira. Caso contrário, retorna Falso. Ela pode ser escrita como \"ou\", sendo esse um \"ou\" inclusivo.\n",
    "* Condicional - retorna Verdadeiro se a proposição antecedente for falsa ou se as duas proposições analisadas são verdadeiras. Caso contrário, retorna Falso. Ele pode ser escrito como \"então\".\n",
    "* Bicondicional - retorna Verdadeiro se as duas proposições analisadas são verdadeiras ou se as duas são falsas. Caso contrário, retorna Falso. Ele pode ser escrito como \"se, e somente se,\".\n",
    "\n",
    "\n",
    "Nesse sentido, o projeto buscou elaborar um código capaz de checar tautologias a partir de frases que são convertidas em Fórmulas Bem Formuladas (FBFs), expressões lógicas válidas, as quais tem como elementos letras (proposições) e símbolos (conectivos). \n",
    "\n",
    "Desse modo, esse notebook funciona da seguinte maneira:\n",
    "\n",
    "* O código recebe a frase do usuário no input \"FBF\";\n",
    "* Essa frase é traduzida de acordo com a \"Tabela de tradução\";\n",
    "* O usuário chama a função checa_tauto(FBF);\n",
    "* A FBF, já traduzida, começa a ser processada pela função e retorna a frase inserida indicando se é ou não uma tautologia.\n",
    "\n",
    "O processamento dentro da função checa_tauto(FBF) considera as funções que foram criadas para cada um dos conectivos válidos, as quais processam as suas tabelas verdades correspondentes. \n",
    "\n",
    "\n",
    "\n",
    "  \n",
    "    \n",
    "    \n",
    "    "
   ]
  },
  {
   "cell_type": "markdown",
   "id": "1fddfef0-bf0f-4995-ba1d-9eac63a7b94e",
   "metadata": {},
   "source": [
    "## Tabela de tradução\n",
    "Essa tabela serve como instrução para converter a frase recebida em uma FBF "
   ]
  },
  {
   "cell_type": "code",
   "execution_count": 19,
   "id": "5631a3a6-e5d9-4110-b7df-f5fce00b513d",
   "metadata": {},
   "outputs": [
    {
     "name": "stdout",
     "output_type": "stream",
     "text": [
      "+---------------+-----------------+------------+\n",
      "| Conectivo     | Escreva:        | Símbolo:   |\n",
      "+===============+=================+============+\n",
      "| Negação       | não             | ~          |\n",
      "+---------------+-----------------+------------+\n",
      "| Condicional   | então           | ->         |\n",
      "+---------------+-----------------+------------+\n",
      "| Bicondicional | se e somente se | <>         |\n",
      "+---------------+-----------------+------------+\n",
      "| Conjunção     | e               | ^          |\n",
      "+---------------+-----------------+------------+\n",
      "| Disjunção     | ou              | <          |\n",
      "+---------------+-----------------+------------+\n"
     ]
    }
   ],
   "source": [
    "from tabulate import tabulate\n",
    " \n",
    " \n",
    "a = [\n",
    "    [\"Negação\", \"não\", \"~\"], \n",
    "    [\"Condicional\", \"então\", \"->\"], \n",
    "    [\"Bicondicional\", \"se e somente se\", \"<>\"], \n",
    "    [\"Conjunção\", \"e\", \"^\"],\n",
    "    [\"Disjunção\", \"ou\", \"<\"]\n",
    "]\n",
    " \n",
    "# Cria nomes das colunas\n",
    "colunas = [\"Conectivo\", \"Escreva:\", \"Símbolo:\"]\n",
    " \n",
    "print(tabulate(a, headers=colunas, tablefmt=\"grid\"))"
   ]
  },
  {
   "cell_type": "markdown",
   "id": "7dd3321e-4aa0-4829-aa7f-02cc261726e0",
   "metadata": {
    "jp-MarkdownHeadingCollapsed": true
   },
   "source": [
    "## Funções para cada conectivo\n",
    "Essas funções são chamadas dentro da função principal para processar os valores \"V\" e \"F\" gerados de acordo com as proposições das FBFs e os conectivos correspondentes."
   ]
  },
  {
   "cell_type": "markdown",
   "id": "0ef6700a-b95d-4561-9dab-1d60b74c159e",
   "metadata": {
    "jp-MarkdownHeadingCollapsed": true
   },
   "source": [
    "### Negação"
   ]
  },
  {
   "cell_type": "code",
   "execution_count": 20,
   "id": "0710bd9a-df12-4872-a786-05e5a5068f19",
   "metadata": {},
   "outputs": [],
   "source": [
    "def negaçao(lista):\n",
    "\n",
    "    \"\"\"Aplica o conectivo de negação na proposição recebida                                                                                                                     \n",
    "    Args:\n",
    "        lista: lista referente a proposição antes da negação, com valores de V e F                                                                                                                                                                                            \n",
    "    Returns:\n",
    "        lista_neg: lista negada, ou seja, com os valores de V e F invertidos.\"\"\"\n",
    "    \n",
    "    lista_neg = []\n",
    "\n",
    "    for a in lista:\n",
    "        if a == \"V\":\n",
    "            lista_neg.append(\"F\")\n",
    "        else:\n",
    "            lista_neg.append(\"V\")\n",
    "            \n",
    "    return lista_neg"
   ]
  },
  {
   "cell_type": "markdown",
   "id": "d2682c2a-a88e-4908-b76f-cb38193fe15e",
   "metadata": {
    "jp-MarkdownHeadingCollapsed": true
   },
   "source": [
    "### Conjunção"
   ]
  },
  {
   "cell_type": "code",
   "execution_count": 21,
   "id": "d0c63fd9-5300-49cf-8a05-a9304e592103",
   "metadata": {},
   "outputs": [],
   "source": [
    "def conjunçao(listaA, listaB):\n",
    "\n",
    "    \"\"\"Aplica o conectivo de conjunção considerando duas proposições\n",
    "    Args:\n",
    "      listaA: lista referente a proposição antes da conjunção, com valores de V e F\n",
    "      listaB: lista referente a proposição depois da conjunção, com valores de V e F                                                                                                                                       \n",
    "    Returns:\n",
    "      lista_conj: uma lista  de V e F que surge a partir da aplicação do conectivo lógico \"conjunção\" nas duas proposições recebidas pela função.\"\"\"\n",
    "\n",
    "    lista_conj = []\n",
    "\n",
    "    for a, b in zip(listaA, listaB):\n",
    "        if a == \"V\" and b ==\"V\":\n",
    "            lista_conj.append(\"V\")\n",
    "        else:\n",
    "            lista_conj.append(\"F\")\n",
    "            \n",
    "    return lista_conj"
   ]
  },
  {
   "cell_type": "markdown",
   "id": "2435bf62-d050-4664-8f7f-a0523fb1d3af",
   "metadata": {
    "jp-MarkdownHeadingCollapsed": true
   },
   "source": [
    "### Disjunção"
   ]
  },
  {
   "cell_type": "code",
   "execution_count": 22,
   "id": "337ff8db-0d1b-443b-b01e-1023ab61a124",
   "metadata": {},
   "outputs": [],
   "source": [
    "def disjunçao(listaA, listaB):\n",
    "\n",
    "    \"\"\"Aplica o conectivo de disjunção considerando duas proposições\n",
    "    Args:\n",
    "      listaA: lista referente a proposição antes da disjunção, com valores de V e F\n",
    "      listaB: lista referente a proposição depois da disjunção, com valores de V e F                                                                                                                                       \n",
    "    Returns:\n",
    "      lista_disj: uma lista de V e F que surge a partir da aplicação do conectivo lógico \"disjunção\" nas duas proposições recebidas pela função.\"\"\"\n",
    "\n",
    "    lista_disj = []\n",
    "\n",
    "    for a, b in zip(listaA, listaB):\n",
    "        if a == \"F\" and b ==\"F\":\n",
    "            lista_disj.append(\"F\")\n",
    "        else:\n",
    "            lista_disj.append(\"V\")\n",
    "        \n",
    "    return lista_disj"
   ]
  },
  {
   "cell_type": "markdown",
   "id": "7316f4ce-6577-4157-af6f-32b1083a1b17",
   "metadata": {},
   "source": [
    "### Condicional"
   ]
  },
  {
   "cell_type": "code",
   "execution_count": 23,
   "id": "cc02bb18-2a78-4cc9-a656-41ee11aa85a1",
   "metadata": {},
   "outputs": [],
   "source": [
    "def condicional(listaA, listaB):\n",
    "    \n",
    "    \"\"\"Aplica o conectivo de condicional considerando duas proposições\n",
    "    Args:\n",
    "      listaA: lista referente a proposição antes do condicional, com valores de V e F\n",
    "      listaB: lista referente a proposição depois do condicional, com valores de V e F                                                                                                                                       \n",
    "    Returns:\n",
    "      lista_cond: uma lista  de V e F que surge a partir da aplicação do conectivo lógico \"condicional\" nas duas proposições recebidas pela função.\"\"\"\n",
    "\n",
    "    lista_cond = []\n",
    "\n",
    "    for a, b in zip(listaA, listaB):\n",
    "        if a == \"V\" and b ==\"F\":\n",
    "            lista_cond.append(\"F\")\n",
    "        else:\n",
    "            lista_cond.append(\"V\")\n",
    "        \n",
    "    return lista_cond"
   ]
  },
  {
   "cell_type": "markdown",
   "id": "d5524ba0-07c7-47d4-98de-0e8a1e188b68",
   "metadata": {
    "jp-MarkdownHeadingCollapsed": true
   },
   "source": [
    "### Bicondicional"
   ]
  },
  {
   "cell_type": "code",
   "execution_count": 24,
   "id": "bc65d337-5525-4a20-b6e5-b97873edd4d7",
   "metadata": {},
   "outputs": [],
   "source": [
    "def bicondicional(listaA, listaB):\n",
    "    \n",
    "    \"\"\"Aplica o conectivo de bicondicional considerando duas proposições\n",
    "    Args:\n",
    "      listaA: lista referente a proposição antes da bicondicional, com valores de V e F\n",
    "      listaB: lista referente a proposição depois da bicondicional, com valores de V e F                                                                                                                                       \n",
    "    Returns:\n",
    "      lista_bicond: uma lista de V e F que surge a partir da aplicação do conectivo lógico \"bicondicional\" nas duas proposições recebidas pela função.\"\"\"\n",
    "\n",
    "    lista_bicond = []\n",
    "\n",
    "    for a, b in zip(listaA, listaB):\n",
    "        if a == b:\n",
    "            lista_bicond.append(\"V\")\n",
    "        else:\n",
    "            lista_bicond.append(\"F\")\n",
    "\n",
    "    return lista_bicond"
   ]
  },
  {
   "cell_type": "markdown",
   "id": "6fb79d11-5e34-4f4f-8a24-e4bb78d17e1d",
   "metadata": {},
   "source": [
    "## Recebendo a \"frase\"\n",
    "Esse é o input gerado para receber a frase do usuário "
   ]
  },
  {
   "cell_type": "code",
   "execution_count": 92,
   "id": "e5cfd49c-9519-45dd-837f-f30ce916eba1",
   "metadata": {},
   "outputs": [
    {
     "name": "stdin",
     "output_type": "stream",
     "text": [
      "Digite o que você quer verificar se é uma tautologia: A < B -> ~ A ^ B\n"
     ]
    }
   ],
   "source": [
    "FBF = input(\"Digite o que você quer verificar se é uma tautologia:\")"
   ]
  },
  {
   "cell_type": "markdown",
   "id": "1152097a-75c4-437c-b1d1-35005245fe53",
   "metadata": {},
   "source": [
    "## Aplicando a tradução\n"
   ]
  },
  {
   "cell_type": "code",
   "execution_count": null,
   "id": "4bcd758f-5841-4333-931e-ae131019b8bd",
   "metadata": {},
   "outputs": [],
   "source": [
    "FBF_copia = FBF\n",
    "\n",
    "FBF_copia = FBF_copia.replace(\"não\",\"~\")\n",
    "FBF_copia = FBF_copia.replace(\"então\",\"->\")\n",
    "FBF_copia = FBF_copia.replace(\"se e somente se\",\"<>\")\n",
    "FBF_copia = FBF_copia.replace (\"e\",\"^\")\n",
    "FBF_copia = FBF_copia.replace(\"ou\",\"<\")\n",
    "\n",
    "print(f\"FBF original = {FBF}\")\n",
    "print(f\"cópia traduzida = {FBF_copia}\")"
   ]
  },
  {
   "cell_type": "markdown",
   "id": "117d9e60-031e-44ea-858a-8ab5013f80cc",
   "metadata": {},
   "source": [
    "## Recebendo frases de linguagem natural para A e B:"
   ]
  },
  {
   "cell_type": "code",
   "execution_count": null,
   "id": "a26f4458-ee00-4872-a369-d81ea876b4cd",
   "metadata": {},
   "outputs": [],
   "source": [
    "propA = input(\"Primeira proposição:\")\n",
    "propB = input(\"Segunda proposição:\")\n",
    "\n",
    "FBF_nat = FBF\n",
    "FBF_nat = FBF_nat.replace(\"não\", \"nego que\")\n",
    "FBF_nat = FBF_nat.replace(\"A\" , propA)\n",
    "FBF_nat = FBF_nat.replace(\"B\" , propB)\n",
    "\n",
    "print(FBF_nat)"
   ]
  },
  {
   "cell_type": "markdown",
   "id": "01d22b6b-aebc-498c-815f-b5ca28219587",
   "metadata": {},
   "source": [
    "## Função Principal\n",
    "Essa é a função principal, pois é responsável por checar as tautologias. De acordo com a FBF recebida, os símbolos e proposições são processados para chamar as funções dos conectivos correspondentes e, então, retornar os valores lógicos da FBF e verificar se eles indicam uma tautologia.\n"
   ]
  },
  {
   "cell_type": "code",
   "execution_count": 66,
   "id": "4ba23653-75a1-4b21-b3f7-b669db7e245c",
   "metadata": {},
   "outputs": [],
   "source": [
    "listaA = [\"V\", \"V\", \"F\", \"F\"]\n",
    "listaB = [\"V\", \"F\", \"V\", \"F\"]\n",
    "\n",
    "lista_das_listas = [listaA, listaB]"
   ]
  },
  {
   "cell_type": "code",
   "execution_count": 95,
   "id": "07c009e7-ef66-48a8-9768-92e6d445dac3",
   "metadata": {},
   "outputs": [],
   "source": [
    "def checa_tauto(FBF):\n",
    "    \"\"\" Processa strings a partir da entrada do usuário. Chama as demais funções quando são necessárias.\n",
    "    Args:\n",
    "        FBF: Uma fórmula bem formulada (string) com duas proposições e até dois conectivos.\n",
    "    Returns:\n",
    "        Retorna uma lista com os valores verdade obtidos após a aplicação das funções escolhidas (conectivos) à string (FBF) processada.\n",
    "    \"\"\"\n",
    "    # divisão FBF por espaços\n",
    "    FBF_separado = FBF.split(\" \")\n",
    "\n",
    "    lista_conectivos = []\n",
    "    lista_letras = []\n",
    "    \n",
    "    for item in FBF_separado:\n",
    "        if item.isalnum() == True:\n",
    "            lista_letras.append(item)\n",
    "        else:\n",
    "            lista_conectivos.append(item)\n",
    "\n",
    "\n",
    "    # Dicionário para atribuir valores verdade às strings (proposições) para poder usar nas funções:\n",
    "    dicio = {       \n",
    "}\n",
    "\n",
    "    for lista, letra in zip(lista_das_listas, lista_letras):\n",
    "        dicio[letra] = lista\n",
    "\n",
    "    print(dicio)\n",
    "\n",
    "    # Aplicando negação:\n",
    "\n",
    "    if \"~\" in FBF_separado:\n",
    "        indice_simbolo = FBF_separado.index(\"~\")\n",
    "\n",
    "        # Pega o índice do item seguinte à negação:\n",
    "        indice_neg = FBF_separado.index(\"~\") + 1\n",
    "\n",
    "        # Recupera o elemento do índice\n",
    "        prop_correspondente = FBF_separado[indice_neg]\n",
    "\n",
    "        # Aplica a função no valor da proposição que está no dicionário:\n",
    "        valor_negado = negaçao(dicio [prop_correspondente])\n",
    "\n",
    "        FBF_separado[indice_neg] = \"P\"\n",
    "        FBF_separado.pop(indice_simbolo)\n",
    "\n",
    "        dicio[\"P\"] = valor_negado\n",
    "\n",
    "    \n",
    "    # Aplicando conjunção:\n",
    "\n",
    "    if \"^\" in FBF_separado:\n",
    "        indice_simbolo = FBF_separado.index(\"^\")\n",
    "        \n",
    "        # Pega o índice do item seguinte à conjunção:\n",
    "        indice_conj1 = FBF_separado.index(\"^\") - 1\n",
    "\n",
    "        # Pega o índice do item anterior à conjunção:\n",
    "        indice_conj2 = FBF_separado.index(\"^\") + 1\n",
    "\n",
    "        # Recupera o elemento do índice:\n",
    "        prop_correspondente1 = FBF_separado[indice_conj1]\n",
    "        prop_correspondente2 = FBF_separado[indice_conj2]\n",
    "\n",
    "        # Aplica a função no valor da proposição que está no dicionário\n",
    "        valor_conjunçao = conjunçao(dicio[prop_correspondente1], dicio[prop_correspondente2])\n",
    "\n",
    "        \n",
    "        FBF_separado[indice_conj2] = \"Q\"\n",
    "        FBF_separado.pop(indice_simbolo)\n",
    "        FBF_separado.pop(indice_conj1)\n",
    "    \n",
    "        dicio[\"Q\"] = valor_conjunçao\n",
    "        \n",
    "\n",
    "    # Aplicando disjunção:\n",
    "    if \"<\" in FBF_separado:\n",
    "        indice_simbolo = FBF_separado.index(\"<\")\n",
    "\n",
    "        # Pega o índice do item anterior à disjunção:\n",
    "        indice_disj1 = FBF_separado.index(\"<\") - 1\n",
    "\n",
    "        # Pega o índice do item seguinte à disjunção:\n",
    "        indice_disj2 = FBF_separado.index(\"<\") + 1\n",
    "\n",
    "        # Recupera o elemento do índice:\n",
    "        prop_correspondente1 = FBF_separado[indice_disj1]\n",
    "        \n",
    "        # Recupera o elemento do índice:\n",
    "        prop_correspondente2 = FBF_separado[indice_disj2]\n",
    "\n",
    "        # Aplica a função na proposição que está no dicionário:\n",
    "        valor_disjunçao = disjunçao(dicio[prop_correspondente1], dicio[prop_correspondente2])\n",
    "\n",
    "        FBF_separado[indice_disj2] = \"R\"\n",
    "        FBF_separado.pop(indice_simbolo)\n",
    "        FBF_separado.pop(indice_disj1)\n",
    "    \n",
    "        dicio[\"R\"] = valor_disjunçao\n",
    "        \n",
    "\n",
    "    # Aplicando condicional:\n",
    "\n",
    "    if \"->\" in FBF_separado:\n",
    "        indice_simbolo = FBF_separado.index(\"->\")\n",
    "        \n",
    "        # Pega o índice do item anerior ao condicional:\n",
    "        indice_cond1 = FBF_separado.index(\"->\") - 1\n",
    "\n",
    "        # Pega o índice do item após o condicional:\n",
    "        indice_cond2 = FBF_separado.index(\"->\") + 1\n",
    "\n",
    "        # Recupera a proposição 1 a partir do índice\n",
    "        prop_correspondente1 = FBF_separado[indice_cond1]\n",
    "\n",
    "        # Recupera a proposição 2 a partir do índice\n",
    "        prop_correspondente2 = FBF_separado[indice_cond2]\n",
    "\n",
    "        # Aplica a função no valor da proposição que está no dicionario\n",
    "        valor_condicional = condicional(dicio[prop_correspondente1], dicio[prop_correspondente2])\n",
    "\n",
    "        FBF_separado[indice_cond2] = \"S\"\n",
    "        FBF_separado.pop(indice_simbolo)\n",
    "        FBF_separado.pop(indice_cond1)\n",
    "    \n",
    "        dicio[\"S\"] = valor_condicional\n",
    "        \n",
    "\n",
    "    \n",
    "    if \"<>\" in FBF_separado:\n",
    "        indice_simbolo = FBF_separado.index(\"<>\")\n",
    "\n",
    "        # Pega o índice do item anterior ao condicional:\n",
    "        indice_bicond1 = FBF_separado.index(\"<>\") - 1\n",
    "\n",
    "        # Pega o índice do item após o condicional:\n",
    "        indice_bicond2 = FBF_separado.index(\"<>\") + 1\n",
    "\n",
    "        # Recupera a proposição 1 a partir do índice\n",
    "        prop_correspondente1 = FBF_separado[indice_bicond1]\n",
    "\n",
    "        # Recupera a proposição 2 a partir do índice\n",
    "        prop_correspondente2 = FBF_separado[indice_bicond2]\n",
    "\n",
    "        # Aplica a função no valor da proposição que está no dicionário\n",
    "        valor_bicondicional = bicondicional(dicio[prop_correspondente1], dicio[prop_correspondente2])\n",
    "\n",
    "        FBF_separado[indice_bicond2] = \"T\"\n",
    "        FBF_separado.pop(indice_simbolo)\n",
    "        FBF_separado.pop(indice_bicond1)\n",
    "    \n",
    "        dicio[\"T\"] = valor_bicondicional\n",
    "        \n",
    "\n",
    "    lista_dicio = list(dicio.keys())\n",
    "    ultimo_valor = lista_dicio[-1]\n",
    "    lista_final = dicio[ultimo_valor]\n",
    "    print(dicio)\n",
    "    \n",
    "    if lista_final == [\"V\", \"V\", \"V\", \"V\"]:\n",
    "        return (f'\"{FBF}\" é uma TAUTOLOGIA!!!')\n",
    "    else:\n",
    "        return (f'\"{FBF}\" NÃO é uma TAUTOLOGIA!!')"
   ]
  },
  {
   "cell_type": "markdown",
   "id": "241fc7b7-e3e4-450c-98bb-6417dfae8392",
   "metadata": {},
   "source": [
    "### TESTAGEM:"
   ]
  },
  {
   "cell_type": "code",
   "execution_count": 96,
   "id": "00f56593-f851-438b-b31b-f13f6a3bc3fd",
   "metadata": {},
   "outputs": [
    {
     "name": "stdout",
     "output_type": "stream",
     "text": [
      "{'A': ['V', 'V', 'F', 'F'], 'B': ['V', 'F', 'V', 'F']}\n",
      "{'A': ['V', 'V', 'F', 'F'], 'B': ['V', 'F', 'V', 'F'], 'P': ['F', 'F', 'V', 'V'], 'Q': ['F', 'F', 'V', 'F'], 'R': ['V', 'V', 'V', 'F'], 'S': ['F', 'F', 'V', 'V']}\n"
     ]
    },
    {
     "data": {
      "text/plain": [
       "'\"A < B -> ~ A ^ B\" NÃO é uma TAUTOLOGIA!!'"
      ]
     },
     "execution_count": 96,
     "metadata": {},
     "output_type": "execute_result"
    }
   ],
   "source": [
    "checa_tauto(FBF)"
   ]
  },
  {
   "cell_type": "markdown",
   "id": "21fd2d1a-f09e-4be1-b97a-2c4fb22fdc02",
   "metadata": {},
   "source": [
    "### CONCLUSÃO:"
   ]
  },
  {
   "cell_type": "code",
   "execution_count": null,
   "id": "25f05465-53dc-4dd3-b963-7880a7bae9ec",
   "metadata": {},
   "outputs": [],
   "source": []
  }
 ],
 "metadata": {
  "kernelspec": {
   "display_name": "ilumpy",
   "language": "python",
   "name": "ilumpy"
  },
  "language_info": {
   "codemirror_mode": {
    "name": "ipython",
    "version": 3
   },
   "file_extension": ".py",
   "mimetype": "text/x-python",
   "name": "python",
   "nbconvert_exporter": "python",
   "pygments_lexer": "ipython3",
   "version": "3.12.7"
  }
 },
 "nbformat": 4,
 "nbformat_minor": 5
}
