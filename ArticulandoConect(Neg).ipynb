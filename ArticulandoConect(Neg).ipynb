{
 "cells": [
  {
   "cell_type": "code",
   "execution_count": 86,
   "id": "0710bd9a-df12-4872-a786-05e5a5068f19",
   "metadata": {},
   "outputs": [],
   "source": [
    "def negaçao(lista):\n",
    "\n",
    "    lista_neg = []\n",
    "\n",
    "    for a in lista:\n",
    "        if a == \"V\":\n",
    "            lista_neg.append(\"F\")\n",
    "        else:\n",
    "            lista_neg.append(\"V\")\n",
    "            \n",
    "    return lista_neg"
   ]
  },
  {
   "cell_type": "code",
   "execution_count": null,
   "id": "e5cfd49c-9519-45dd-837f-f30ce916eba1",
   "metadata": {},
   "outputs": [],
   "source": [
    "FBF = input(\"Digite o que você quer verificar se é uma tautologia:\")"
   ]
  },
  {
   "cell_type": "code",
   "execution_count": 21,
   "id": "288982c2-c0e7-4e9d-a5ee-707bd783197e",
   "metadata": {},
   "outputs": [
    {
     "name": "stdout",
     "output_type": "stream",
     "text": [
      "['~', 'A', '->', 'B']\n"
     ]
    }
   ],
   "source": [
    "FBF_separado = FBF.split(\" \") #divisão FBF por espaços\n",
    "print(FBF_separado)"
   ]
  },
  {
   "cell_type": "code",
   "execution_count": 69,
   "id": "4ba23653-75a1-4b21-b3f7-b669db7e245c",
   "metadata": {},
   "outputs": [],
   "source": [
    "listaA = [\"V\", \"V\", \"F\", \"F\"]\n",
    "listaB = [\"V\", \"F\", \"V\", \"F\"]\n",
    "\n",
    "lista_das_listas = [listaA, listaB]"
   ]
  },
  {
   "cell_type": "code",
   "execution_count": 85,
   "id": "07c009e7-ef66-48a8-9768-92e6d445dac3",
   "metadata": {},
   "outputs": [],
   "source": [
    "def checa_tauto(FBF):\n",
    "    FBF_separado = FBF.split(\" \") #divisão FBF por espaços\n",
    "\n",
    "    lista_conectivos = []\n",
    "    lista_letras = []\n",
    "    \n",
    "    for item in FBF_separado:\n",
    "        if item.isalnum() == True:\n",
    "            lista_letras.append(item)\n",
    "        else:\n",
    "            lista_conectivos.append(item)\n",
    "\n",
    "    print(lista_conectivos)\n",
    "    print(lista_letras)\n",
    "\n",
    "\n",
    "\n",
    "    \n",
    "\n",
    "    dicio = {       \n",
    "}\n",
    "\n",
    " #dicionario para atribuir valores verdade às strings (proposições) para poder usar nas funções\n",
    "\n",
    "    for lista, letra in zip(lista_das_listas, lista_letras):\n",
    "        dicio[letra] = lista\n",
    "\n",
    "    print(dicio)\n",
    "\n",
    "\n",
    "\n",
    "        \n",
    "\n",
    "    for indice, elemento in enumerate(FBF_separado):\n",
    "        if \"~\" in FBF_separado:\n",
    "            indice_neg = FBF_separado.index(\"~\") + 1   #pega o indice do item seguinte à negação\n",
    "        \n",
    "            prop_correspondente = FBF_separado[indice_neg]  #recupera o elemento do indice\n",
    "        \n",
    "            valor_negado = negaçao(dicio [prop_correspondente])  #aplica a função no valor da proposição que está no dicionario\n",
    "\n",
    "        \n",
    "    print(valor_negado)\n"
   ]
  },
  {
   "cell_type": "code",
   "execution_count": 50,
   "id": "675aa9bf-4c08-4e41-9218-ccb08aeaaa4f",
   "metadata": {},
   "outputs": [
    {
     "name": "stdout",
     "output_type": "stream",
     "text": [
      "[0, 1, 2, 3, 4, 5]\n"
     ]
    }
   ],
   "source": [
    "# Aprendemos a usar enumerate!!!!\n",
    "lista = [1, 2, 3, 4, 5, 6]\n",
    "nova_lista = []\n",
    "for indice, numero in enumerate(lista):\n",
    "    nova_lista.append(indice)\n",
    "print(nova_lista)"
   ]
  }
 ],
 "metadata": {
  "kernelspec": {
   "display_name": "ilumpy",
   "language": "python",
   "name": "ilumpy"
  },
  "language_info": {
   "codemirror_mode": {
    "name": "ipython",
    "version": 3
   },
   "file_extension": ".py",
   "mimetype": "text/x-python",
   "name": "python",
   "nbconvert_exporter": "python",
   "pygments_lexer": "ipython3",
   "version": "3.12.7"
  }
 },
 "nbformat": 4,
 "nbformat_minor": 5
}
