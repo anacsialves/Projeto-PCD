{
 "cells": [
  {
   "cell_type": "markdown",
   "id": "e599df47-d9b5-4190-b73b-86084dbc512f",
   "metadata": {},
   "source": [
    "# Provar uma Tautologia"
   ]
  },
  {
   "cell_type": "markdown",
   "id": "118188bc-600d-49e8-bfa5-249b47cd2a86",
   "metadata": {},
   "source": [
    "### Instruções para inserir sua proposição:"
   ]
  },
  {
   "cell_type": "code",
   "execution_count": 24,
   "id": "d7380e99-b3fd-4cbb-a5ef-38bf3fde1384",
   "metadata": {},
   "outputs": [
    {
     "name": "stdout",
     "output_type": "stream",
     "text": [
      "+---------------+-----------------+------------+\n",
      "| Conectivo     | Escreva:        | Símbolo:   |\n",
      "+===============+=================+============+\n",
      "| Negação       | não             | ~          |\n",
      "+---------------+-----------------+------------+\n",
      "| Condicional   | então           | ->         |\n",
      "+---------------+-----------------+------------+\n",
      "| Bicondicional | se e somente se | <>         |\n",
      "+---------------+-----------------+------------+\n",
      "| Conjunção     | e               | /\\         |\n",
      "+---------------+-----------------+------------+\n",
      "| Disjunção     | ou              | \\/         |\n",
      "+---------------+-----------------+------------+\n"
     ]
    }
   ],
   "source": [
    "from tabulate import tabulate\n",
    " \n",
    " \n",
    "a = [\n",
    "    [\"Negação\", \"não\", \"~\"], \n",
    "    [\"Condicional\", \"então\", \"->\"], \n",
    "    [\"Bicondicional\", \"se e somente se\", \"<>\"], \n",
    "    [\"Conjunção\", \"e\", \"/\\\\\"],\n",
    "    [\"Disjunção\", \"ou\", \"\\\\/\"]\n",
    "]\n",
    " \n",
    "# create header\n",
    "headers = [\"Conectivo\", \"Escreva:\", \"Símbolo:\"]\n",
    " \n",
    "print(tabulate(a, headers=headers, tablefmt=\"grid\"))"
   ]
  },
  {
   "cell_type": "code",
   "execution_count": 20,
   "id": "e91ce9de-3a15-4bf2-b478-c144995c5cf6",
   "metadata": {},
   "outputs": [
    {
     "name": "stdin",
     "output_type": "stream",
     "text": [
      "Digite uma proposição A: a\n",
      "Digite uma proposição B: a\n"
     ]
    }
   ],
   "source": [
    "#Recebe as proposições e a fórmula bem formulada a ser verificada\n",
    "propA = input(\"Digite uma proposição A:\")\n",
    "propB = input(\"Digite uma proposição B:\")"
   ]
  },
  {
   "cell_type": "code",
   "execution_count": 29,
   "id": "7bb5c615-590c-4e44-b3a5-ccbffc98aa42",
   "metadata": {},
   "outputs": [
    {
     "name": "stdin",
     "output_type": "stream",
     "text": [
      "Digite o que você quer verificar se é uma tautologia: ~ A -> B\n"
     ]
    }
   ],
   "source": [
    "frase_fornecida = input(\"Digite o que você quer verificar se é uma tautologia:\")"
   ]
  },
  {
   "cell_type": "code",
   "execution_count": 2,
   "id": "7a56efae-d4ac-4b9e-8e26-91797662b066",
   "metadata": {},
   "outputs": [],
   "source": [
    "listaA = [\"V\", \"V\", \"F\", \"F\"]\n",
    "listaB = [\"V\", \"F\", \"V\", \"F\"]"
   ]
  },
  {
   "cell_type": "code",
   "execution_count": 31,
   "id": "bd6143a4-ce8b-4bd0-8de7-eb6c5cf4cae2",
   "metadata": {},
   "outputs": [
    {
     "name": "stdout",
     "output_type": "stream",
     "text": [
      "['~', 'A', '->', 'B']\n"
     ]
    }
   ],
   "source": [
    "FBF_separado = frase_fornecida.split(\" \") #divisão FBF por espaços\n",
    "print(FBF_separado)"
   ]
  },
  {
   "cell_type": "code",
   "execution_count": null,
   "id": "4413ee3e-a818-4e14-9531-d36dd9c76649",
   "metadata": {},
   "outputs": [],
   "source": [
    "def checa_tauto(frase_fornecida):\n",
    "    FBF_separado = frase_fornecida.split(\" \") #divisão FBF por espaços\n",
    "    \n",
    "    .isalnum"
   ]
  },
  {
   "cell_type": "code",
   "execution_count": 3,
   "id": "be757ed4-b2aa-426d-848a-2ebf14385423",
   "metadata": {},
   "outputs": [],
   "source": [
    "def negaçao(lista):\n",
    "\n",
    "    lista_neg = []\n",
    "\n",
    "    for a in lista:\n",
    "        if a == \"V\":\n",
    "            lista_neg.append(\"F\")\n",
    "        else:\n",
    "            lista_neg.append(\"V\")\n",
    "            \n",
    "    return lista_neg"
   ]
  },
  {
   "cell_type": "code",
   "execution_count": 4,
   "id": "1f55e8e7-ed8a-4306-b41b-31b71a245a42",
   "metadata": {},
   "outputs": [],
   "source": [
    "def conjunçao(listaA, listaB):\n",
    "    \n",
    "    lista_conj = []\n",
    "\n",
    "    for a, b in zip(listaA, listaB):\n",
    "        if a == \"V\" and b ==\"V\":\n",
    "            lista_conj.append(\"V\")\n",
    "        else:\n",
    "            lista_conj.append(\"F\")\n",
    "            \n",
    "    return lista_conj"
   ]
  },
  {
   "cell_type": "code",
   "execution_count": 5,
   "id": "d980fb2f-25c1-4737-8dd3-b31413949efc",
   "metadata": {},
   "outputs": [],
   "source": [
    "def disjunçao(listaA, listaB):\n",
    "\n",
    "    lista_disj = []\n",
    "\n",
    "    for a, b in zip(listaA, listaB):\n",
    "        if a == \"F\" and b ==\"F\":\n",
    "            lista_disj.append(\"F\")\n",
    "        else:\n",
    "            lista_disj.append(\"V\")\n",
    "        \n",
    "    return lista_disj"
   ]
  },
  {
   "cell_type": "code",
   "execution_count": 6,
   "id": "e8a3844a-3fe2-4626-aab0-6f89a49ead44",
   "metadata": {},
   "outputs": [],
   "source": [
    "def condicional(listaA, listaB):\n",
    "\n",
    "    lista_cond = []\n",
    "\n",
    "    for a, b in zip(listaA, listaB):\n",
    "        if a == \"V\" and b ==\"F\":\n",
    "            lista_cond.append(\"F\")\n",
    "        else:\n",
    "            lista_cond.append(\"V\")\n",
    "        \n",
    "    return lista_cond"
   ]
  },
  {
   "cell_type": "code",
   "execution_count": 12,
   "id": "7e2aded0-1984-4bf6-b633-496cc0c349c0",
   "metadata": {},
   "outputs": [],
   "source": [
    "def bicondicional(listaA, listaB):\n",
    "\n",
    "    lista_bicond = []\n",
    "\n",
    "    for a, b in zip(listaA, listaB):\n",
    "        if a == b:\n",
    "            lista_bicond.append(\"V\")\n",
    "        else:\n",
    "            lista_bicond.append(\"F\")\n",
    "\n",
    "    return lista_bicond"
   ]
  },
  {
   "cell_type": "code",
   "execution_count": 7,
   "id": "562d1620-a920-4a5a-8feb-b6b02f576cd8",
   "metadata": {},
   "outputs": [
    {
     "data": {
      "text/plain": [
       "['F', 'F', 'V', 'V']"
      ]
     },
     "execution_count": 7,
     "metadata": {},
     "output_type": "execute_result"
    }
   ],
   "source": [
    "negaçao(listaA)"
   ]
  },
  {
   "cell_type": "code",
   "execution_count": 8,
   "id": "e09038df-2280-47e3-8476-f58c1c2d9a2d",
   "metadata": {},
   "outputs": [
    {
     "data": {
      "text/plain": [
       "['V', 'F', 'F', 'F']"
      ]
     },
     "execution_count": 8,
     "metadata": {},
     "output_type": "execute_result"
    }
   ],
   "source": [
    "conjunçao(listaA, listaB)"
   ]
  },
  {
   "cell_type": "code",
   "execution_count": 9,
   "id": "c92322c4-d77b-4ae7-98ab-afee992a92df",
   "metadata": {},
   "outputs": [
    {
     "data": {
      "text/plain": [
       "['V', 'V', 'V', 'F']"
      ]
     },
     "execution_count": 9,
     "metadata": {},
     "output_type": "execute_result"
    }
   ],
   "source": [
    "disjunçao(listaA, listaB)"
   ]
  },
  {
   "cell_type": "code",
   "execution_count": 10,
   "id": "51d7332e-c9c6-40fe-90a4-18ba9208da7e",
   "metadata": {},
   "outputs": [
    {
     "data": {
      "text/plain": [
       "['V', 'F', 'V', 'V']"
      ]
     },
     "execution_count": 10,
     "metadata": {},
     "output_type": "execute_result"
    }
   ],
   "source": [
    "condicional(listaA, listaB)"
   ]
  },
  {
   "cell_type": "code",
   "execution_count": 13,
   "id": "46fbbbb8-148e-43c5-9598-06b24571ae00",
   "metadata": {},
   "outputs": [
    {
     "data": {
      "text/plain": [
       "['V', 'F', 'F', 'V']"
      ]
     },
     "execution_count": 13,
     "metadata": {},
     "output_type": "execute_result"
    }
   ],
   "source": [
    "bicondicional(listaA, listaB)"
   ]
  },
  {
   "cell_type": "code",
   "execution_count": null,
   "id": "957f753f-24f7-4120-91b3-dcb107e43781",
   "metadata": {},
   "outputs": [],
   "source": [
    "def checa_tauto(listaA, listaB):"
   ]
  },
  {
   "cell_type": "code",
   "execution_count": null,
   "id": "f9901950-83cb-46aa-a18d-c83159277c70",
   "metadata": {},
   "outputs": [],
   "source": [
    "if lista_final == [\"V\", \"V\", \"V\", \"V\"]:\n",
    "    print(f\"{checa_tauto} É UMA TAUTOLOGIA!!!\")"
   ]
  }
 ],
 "metadata": {
  "kernelspec": {
   "display_name": "ilumpy",
   "language": "python",
   "name": "ilumpy"
  },
  "language_info": {
   "codemirror_mode": {
    "name": "ipython",
    "version": 3
   },
   "file_extension": ".py",
   "mimetype": "text/x-python",
   "name": "python",
   "nbconvert_exporter": "python",
   "pygments_lexer": "ipython3",
   "version": "3.12.7"
  }
 },
 "nbformat": 4,
 "nbformat_minor": 5
}
