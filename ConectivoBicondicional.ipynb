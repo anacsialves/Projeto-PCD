{
 "cells": [
  {
   "cell_type": "code",
   "execution_count": 1,
   "id": "0710bd9a-df12-4872-a786-05e5a5068f19",
   "metadata": {},
   "outputs": [],
   "source": [
    "def condicional(listaA, listaB):\n",
    "\n",
    "    lista_cond = []\n",
    "\n",
    "    for a, b in zip(listaA, listaB):\n",
    "        if a == \"V\" and b ==\"F\":\n",
    "            lista_cond.append(\"F\")\n",
    "        else:\n",
    "            lista_cond.append(\"V\")\n",
    "        \n",
    "    return lista_cond"
   ]
  },
  {
   "cell_type": "code",
   "execution_count": 2,
   "id": "e5cfd49c-9519-45dd-837f-f30ce916eba1",
   "metadata": {},
   "outputs": [
    {
     "name": "stdin",
     "output_type": "stream",
     "text": [
      "Digite o que você quer verificar se é uma tautologia: ~ A -> B\n"
     ]
    }
   ],
   "source": [
    "FBF = input(\"Digite o que você quer verificar se é uma tautologia:\")"
   ]
  },
  {
   "cell_type": "code",
   "execution_count": 3,
   "id": "4ba23653-75a1-4b21-b3f7-b669db7e245c",
   "metadata": {},
   "outputs": [],
   "source": [
    "listaA = [\"V\", \"V\", \"F\", \"F\"]\n",
    "listaB = [\"V\", \"F\", \"V\", \"F\"]\n",
    "\n",
    "lista_das_listas = [listaA, listaB]"
   ]
  },
  {
   "cell_type": "code",
   "execution_count": 6,
   "id": "07c009e7-ef66-48a8-9768-92e6d445dac3",
   "metadata": {},
   "outputs": [],
   "source": [
    "def checa_tauto(FBF):\n",
    "    \n",
    "    #Essa primeira parte só divide aquilo que é função daquilo que é proposição\n",
    "    FBF_separado = FBF.split(\" \") #divisão FBF por espaços\n",
    "\n",
    "    lista_conectivos = []\n",
    "    lista_letras = []\n",
    "    \n",
    "    for item in FBF_separado:\n",
    "        if item.isalnum() == True:\n",
    "            lista_letras.append(item)\n",
    "        else:\n",
    "            lista_conectivos.append(item)\n",
    "\n",
    "    print(lista_conectivos)\n",
    "    print(lista_letras)\n",
    "\n",
    "\n",
    "\n",
    "    \n",
    "\n",
    "    dicio = {       \n",
    "}\n",
    "\n",
    " #dicionario para atribuir valores verdade às strings (proposições) para poder usar nas funções\n",
    "\n",
    "    for lista, letra in zip(lista_das_listas, lista_letras):\n",
    "        dicio[letra] = lista\n",
    "\n",
    "    print(dicio)\n",
    "\n",
    "\n",
    "\n",
    "    if \"->\" in FBF_separado:\n",
    "        ind_antes_cond = FBF_separado.index(\"->\") - 1   #pega o indice do item anterior ao condicional\n",
    "        ind_dps_cond = FBF_separado.index(\"->\") + 1     #pega o indice do item após o condicional\n",
    "        \n",
    "        prop_correspondente1 = FBF_separado[ind_antes_cond]  #recupera a proposição 1 a partir do indice\n",
    "        prop_correspondente2 = FBF_separado[ind_dps_cond]    #recupera a proposição 2 a partir do indice\n",
    "        \n",
    "        valor_cond = condicional(dicio[prop_correspondente1], dicio[prop_correspondente2])  #aplica a função no valor da proposição que está no dicionario\n",
    "\n",
    "        \n",
    "    print(valor_cond)\n"
   ]
  },
  {
   "cell_type": "code",
   "execution_count": 7,
   "id": "00f56593-f851-438b-b31b-f13f6a3bc3fd",
   "metadata": {},
   "outputs": [
    {
     "name": "stdout",
     "output_type": "stream",
     "text": [
      "['~', '->']\n",
      "['A', 'B']\n",
      "{'A': ['V', 'V', 'F', 'F'], 'B': ['V', 'F', 'V', 'F']}\n",
      "['V', 'F', 'V', 'V']\n"
     ]
    }
   ],
   "source": [
    "checa_tauto(FBF)"
   ]
  }
 ],
 "metadata": {
  "kernelspec": {
   "display_name": "ilumpy",
   "language": "python",
   "name": "ilumpy"
  },
  "language_info": {
   "codemirror_mode": {
    "name": "ipython",
    "version": 3
   },
   "file_extension": ".py",
   "mimetype": "text/x-python",
   "name": "python",
   "nbconvert_exporter": "python",
   "pygments_lexer": "ipython3",
   "version": "3.12.7"
  }
 },
 "nbformat": 4,
 "nbformat_minor": 5
}
