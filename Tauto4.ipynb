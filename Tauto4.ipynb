{
 "cells": [
  {
   "cell_type": "markdown",
   "id": "1fddfef0-bf0f-4995-ba1d-9eac63a7b94e",
   "metadata": {},
   "source": [
    "# Tabela de \"tradução\""
   ]
  },
  {
   "cell_type": "code",
   "execution_count": 12,
   "id": "5631a3a6-e5d9-4110-b7df-f5fce00b513d",
   "metadata": {},
   "outputs": [
    {
     "name": "stdout",
     "output_type": "stream",
     "text": [
      "+---------------+-----------------+------------+\n",
      "| Conectivo     | Escreva:        | Símbolo:   |\n",
      "+===============+=================+============+\n",
      "| Negação       | não             | ~          |\n",
      "+---------------+-----------------+------------+\n",
      "| Condicional   | então           | ->         |\n",
      "+---------------+-----------------+------------+\n",
      "| Bicondicional | se e somente se | <>         |\n",
      "+---------------+-----------------+------------+\n",
      "| Conjunção     | e               | ^          |\n",
      "+---------------+-----------------+------------+\n",
      "| Disjunção     | ou              | <          |\n",
      "+---------------+-----------------+------------+\n"
     ]
    }
   ],
   "source": [
    "from tabulate import tabulate\n",
    " \n",
    " \n",
    "a = [\n",
    "    [\"Negação\", \"não\", \"~\"], \n",
    "    [\"Condicional\", \"então\", \"->\"], \n",
    "    [\"Bicondicional\", \"se e somente se\", \"<>\"], \n",
    "    [\"Conjunção\", \"e\", \"^\"],\n",
    "    [\"Disjunção\", \"ou\", \"<\"]\n",
    "]\n",
    " \n",
    "# Cria nomes das colunas\n",
    "colunas = [\"Conectivo\", \"Escreva:\", \"Símbolo:\"]\n",
    " \n",
    "print(tabulate(a, headers=colunas, tablefmt=\"grid\"))"
   ]
  },
  {
   "cell_type": "markdown",
   "id": "7dd3321e-4aa0-4829-aa7f-02cc261726e0",
   "metadata": {},
   "source": [
    "# Funções para cada conectivo"
   ]
  },
  {
   "cell_type": "markdown",
   "id": "0ef6700a-b95d-4561-9dab-1d60b74c159e",
   "metadata": {},
   "source": [
    "### Negação"
   ]
  },
  {
   "cell_type": "code",
   "execution_count": 13,
   "id": "0710bd9a-df12-4872-a786-05e5a5068f19",
   "metadata": {},
   "outputs": [],
   "source": [
    "def negaçao(lista):\n",
    "\n",
    "    \"\"\"Aplica o conectivo de negação na proposição recebida                                                                                                                     \n",
    "    Args:\n",
    "        lista: lista referente a proposição antes da negação, com valores de V e F                                                                                                                                                                                            \n",
    "    Returns:\n",
    "        lista_neg: lista negada, ou seja, com os valores de V e F invertidos.\"\"\"\n",
    "    \n",
    "    lista_neg = []\n",
    "\n",
    "    for a in lista:\n",
    "        if a == \"V\":\n",
    "            lista_neg.append(\"F\")\n",
    "        else:\n",
    "            lista_neg.append(\"V\")\n",
    "            \n",
    "    return lista_neg"
   ]
  },
  {
   "cell_type": "markdown",
   "id": "d2682c2a-a88e-4908-b76f-cb38193fe15e",
   "metadata": {},
   "source": [
    "### Conjunção"
   ]
  },
  {
   "cell_type": "code",
   "execution_count": 14,
   "id": "d0c63fd9-5300-49cf-8a05-a9304e592103",
   "metadata": {},
   "outputs": [],
   "source": [
    "def conjunçao(listaA, listaB):\n",
    "\n",
    "    \"\"\"Aplica o conectivo de conjunção considerando duas proposições\n",
    "    Args:\n",
    "      listaA: lista referente a proposição antes da conjunção, com valores de V e F\n",
    "      listaB: lista referente a proposição depois da conjunção, com valores de V e F                                                                                                                                       \n",
    "    Returns:\n",
    "      lista_conj: uma lista  de V e F que surge a partir da aplicação do conectivo lógico \"conjunção\" nas duas proposições recebidas pela função.\"\"\"\n",
    "\n",
    "    lista_conj = []\n",
    "\n",
    "    for a, b in zip(listaA, listaB):\n",
    "        if a == \"V\" and b ==\"V\":\n",
    "            lista_conj.append(\"V\")\n",
    "        else:\n",
    "            lista_conj.append(\"F\")\n",
    "            \n",
    "    return lista_conj"
   ]
  },
  {
   "cell_type": "markdown",
   "id": "2435bf62-d050-4664-8f7f-a0523fb1d3af",
   "metadata": {},
   "source": [
    "### Disjunção"
   ]
  },
  {
   "cell_type": "code",
   "execution_count": 15,
   "id": "337ff8db-0d1b-443b-b01e-1023ab61a124",
   "metadata": {},
   "outputs": [],
   "source": [
    "def disjunçao(listaA, listaB):\n",
    "\n",
    "    \"\"\"Aplica o conectivo de disjunção considerando duas proposições\n",
    "    Args:\n",
    "      listaA: lista referente a proposição antes da disjunção, com valores de V e F\n",
    "      listaB: lista referente a proposição depois da disjunção, com valores de V e F                                                                                                                                       \n",
    "    Returns:\n",
    "      lista_disj: uma lista de V e F que surge a partir da aplicação do conectivo lógico \"disjunção\" nas duas proposições recebidas pela função.\"\"\"\n",
    "\n",
    "    lista_disj = []\n",
    "\n",
    "    for a, b in zip(listaA, listaB):\n",
    "        if a == \"F\" and b ==\"F\":\n",
    "            lista_disj.append(\"F\")\n",
    "        else:\n",
    "            lista_disj.append(\"V\")\n",
    "        \n",
    "    return lista_disj"
   ]
  },
  {
   "cell_type": "markdown",
   "id": "7316f4ce-6577-4157-af6f-32b1083a1b17",
   "metadata": {},
   "source": [
    "### Condicional"
   ]
  },
  {
   "cell_type": "code",
   "execution_count": 16,
   "id": "cc02bb18-2a78-4cc9-a656-41ee11aa85a1",
   "metadata": {},
   "outputs": [],
   "source": [
    "def condicional(listaA, listaB):\n",
    "    \n",
    "    \"\"\"Aplica o conectivo de condicional considerando duas proposições\n",
    "    Args:\n",
    "      listaA: lista referente a proposição antes do condicional, com valores de V e F\n",
    "      listaB: lista referente a proposição depois do condicional, com valores de V e F                                                                                                                                       \n",
    "    Returns:\n",
    "      lista_cond: uma lista  de V e F que surge a partir da aplicação do conectivo lógico \"condicional\" nas duas proposições recebidas pela função.\"\"\"\n",
    "\n",
    "    lista_cond = []\n",
    "\n",
    "    for a, b in zip(listaA, listaB):\n",
    "        if a == \"V\" and b ==\"F\":\n",
    "            lista_cond.append(\"F\")\n",
    "        else:\n",
    "            lista_cond.append(\"V\")\n",
    "        \n",
    "    return lista_cond"
   ]
  },
  {
   "cell_type": "markdown",
   "id": "d5524ba0-07c7-47d4-98de-0e8a1e188b68",
   "metadata": {},
   "source": [
    "### Bicondicional"
   ]
  },
  {
   "cell_type": "code",
   "execution_count": 17,
   "id": "bc65d337-5525-4a20-b6e5-b97873edd4d7",
   "metadata": {},
   "outputs": [],
   "source": [
    "def bicondicional(listaA, listaB):\n",
    "    \n",
    "    \"\"\"Aplica o conectivo de bicondicional considerando duas proposições\n",
    "    Args:\n",
    "      listaA: lista referente a proposição antes da bicondicional, com valores de V e F\n",
    "      listaB: lista referente a proposição depois da bicondicional, com valores de V e F                                                                                                                                       \n",
    "    Returns:\n",
    "      lista_bicond: uma lista de V e F que surge a partir da aplicação do conectivo lógico \"bicondicional\" nas duas proposições recebidas pela função.\"\"\"\n",
    "\n",
    "    lista_bicond = []\n",
    "\n",
    "    for a, b in zip(listaA, listaB):\n",
    "        if a == b:\n",
    "            lista_bicond.append(\"V\")\n",
    "        else:\n",
    "            lista_bicond.append(\"F\")\n",
    "\n",
    "    return lista_bicond"
   ]
  },
  {
   "cell_type": "markdown",
   "id": "6fb79d11-5e34-4f4f-8a24-e4bb78d17e1d",
   "metadata": {},
   "source": [
    "# Recebendo a \"frase\""
   ]
  },
  {
   "cell_type": "code",
   "execution_count": 21,
   "id": "e5cfd49c-9519-45dd-837f-f30ce916eba1",
   "metadata": {},
   "outputs": [
    {
     "name": "stdin",
     "output_type": "stream",
     "text": [
      "Digite o que você quer verificar se é uma tautologia: ~ A -> B\n"
     ]
    }
   ],
   "source": [
    "FBF = input(\"Digite o que você quer verificar se é uma tautologia:\")"
   ]
  },
  {
   "cell_type": "markdown",
   "id": "01d22b6b-aebc-498c-815f-b5ca28219587",
   "metadata": {},
   "source": [
    "# Função Principal"
   ]
  },
  {
   "cell_type": "code",
   "execution_count": 22,
   "id": "4ba23653-75a1-4b21-b3f7-b669db7e245c",
   "metadata": {},
   "outputs": [],
   "source": [
    "listaA = [\"V\", \"V\", \"F\", \"F\"]\n",
    "listaB = [\"V\", \"F\", \"V\", \"F\"]\n",
    "\n",
    "lista_das_listas = [listaA, listaB]"
   ]
  },
  {
   "cell_type": "code",
   "execution_count": 23,
   "id": "07c009e7-ef66-48a8-9768-92e6d445dac3",
   "metadata": {},
   "outputs": [],
   "source": [
    "def checa_tauto(FBF):\n",
    "    \"\"\" Processa strings a partir da entrada do usuário. Chama as demais funções quando são necessárias.\n",
    "    Args:\n",
    "        FBF: Uma fórmula bem formulada (string) com duas proposições e até dois conectivos.\n",
    "    Returns:\n",
    "        Retorna uma lista com os valores verdade obtidos após a aplicação das funções escolhidas (conectivos) à string (FBF) processada.\n",
    "    \"\"\"\n",
    "    # divisão FBF por espaços\n",
    "    FBF_separado = FBF.split(\" \")\n",
    "\n",
    "    lista_conectivos = []\n",
    "    lista_letras = []\n",
    "    \n",
    "    for item in FBF_separado:\n",
    "        if item.isalnum() == True:\n",
    "            lista_letras.append(item)\n",
    "        else:\n",
    "            lista_conectivos.append(item)\n",
    "\n",
    "    print(FBF_separado)\n",
    "\n",
    "\n",
    "    # Dicionário para atribuir valores verdade às strings (proposições) para poder usar nas funções:\n",
    "    dicio = {       \n",
    "}\n",
    "\n",
    "    for lista, letra in zip(lista_das_listas, lista_letras):\n",
    "        dicio[letra] = lista\n",
    "\n",
    "    print(dicio)\n",
    "\n",
    "    # Aplicando negação:\n",
    "\n",
    "    if \"~\" in FBF_separado:\n",
    "        indice_simbolo = FBF_separado.index(\"~\")\n",
    "\n",
    "        # Pega o índice do item seguinte à negação:\n",
    "        indice_neg = FBF_separado.index(\"~\") + 1\n",
    "\n",
    "        # Recupera o elemento do índice\n",
    "        prop_correspondente = FBF_separado[indice_neg]\n",
    "\n",
    "        # Aplica a função no valor da proposição que está no dicionário:\n",
    "        valor_negado = negaçao(dicio [prop_correspondente])\n",
    "\n",
    "        FBF_separado[indice_neg] = \"P\"\n",
    "        FBF_separado.pop(indice_simbolo)\n",
    "\n",
    "        dicio[\"P\"] = valor_negado\n",
    "\n",
    "        print(\"Negação\")\n",
    "        print(valor_negado)\n",
    "\n",
    "    \n",
    "    # Aplicando conjunção:\n",
    "\n",
    "    if \"^\" in FBF_separado:\n",
    "        indice_simbolo = FBF_separado.index(\"^\")\n",
    "        \n",
    "        # Pega o índice do item seguinte à conjunção:\n",
    "        indice_prop1 = FBF_separado.index(\"^\") + 1\n",
    "\n",
    "        # Pega o índice do item anterior à conjunção:\n",
    "        indice_prop2 = FBF_separado.index(\"^\") - 1\n",
    "\n",
    "        # Recupera o elemento do índice:\n",
    "        prop_correspondente1 = FBF_separado[indice_prop1]\n",
    "        prop_correspondente2 = FBF_separado[indice_prop2]\n",
    "\n",
    "        # Aplica a função no valor da proposição que está no dicionário\n",
    "        valor_conjunçao = conjunçao(dicio[prop_correspondente1], dicio[prop_correspondente2])\n",
    "\n",
    "        \n",
    "        FBF_separado[indice_prop1] = \"Q\"\n",
    "        FBF_separado.pop(indice_simbolo)\n",
    "        FBF_separado.pop(indice_prop2)\n",
    "        print(FBF_separado)\n",
    "    \n",
    "        dicio[\"Q\"] = valor_conjunçao\n",
    "        \n",
    "        print(\"Conjunção\")\n",
    "        print(valor_conjunçao)\n",
    "\n",
    "\n",
    "    # Aplicando disjunção:\n",
    "    if \"<\" in FBF_separado:\n",
    "        indice_simbolo = FBF_separado.index(\"<\")\n",
    "\n",
    "        # Pega o índice do item anterior à disjunção:\n",
    "        indice_disj1 = FBF_separado.index(\"<\") + 1\n",
    "\n",
    "        # Pega o índice do item seguinte à disjunção:\n",
    "        indice_disj2 = FBF_separado.index(\"<\") - 1\n",
    "\n",
    "        # Recupera o elemento do índice:\n",
    "        prop_correspondente1 = FBF_separado[indice_disj1]\n",
    "        \n",
    "        # Recupera o elemento do índice:\n",
    "        prop_correspondente2 = FBF_separado[indice_disj2]\n",
    "\n",
    "        # Aplica a função na proposição que está no dicionário:\n",
    "        valor_disjunçao = disjunçao(dicio[prop_correspondente1], dicio[prop_correspondente2])\n",
    "\n",
    "        FBF_separado[indice_prop_1] = \"R\"\n",
    "        FBF_separado.pop(indice_simbolo)\n",
    "        FBF_separado.pop(indice_prop_2)\n",
    "        print(FBF_separado)\n",
    "    \n",
    "        dicio[\"R\"] = valor_disjunçao\n",
    "        \n",
    "        print(\"Disjunção\")\n",
    "        print(valor_disjunçao)\n",
    "\n",
    "\n",
    "    # Aplicando condicional:\n",
    "\n",
    "    if \"->\" in FBF_separado:\n",
    "        indice_simbolo = FBF_separado.index(\"->\")\n",
    "        \n",
    "        # Pega o índice do item anterior ao condicional:\n",
    "        indice_cond1 = FBF_separado.index(\"->\") + 1\n",
    "\n",
    "        # Pega o índice do item após o condicional:\n",
    "        indice_cond2 = FBF_separado.index(\"->\") - 1\n",
    "\n",
    "        # Recupera a proposição 1 a partir do índice\n",
    "        prop_correspondente1 = FBF_separado[indice_cond1]\n",
    "\n",
    "        # Recupera a proposição 2 a partir do índice\n",
    "        prop_correspondente2 = FBF_separado[indice_cond2]\n",
    "\n",
    "        # Aplica a função no valor da proposição que está no dicionario\n",
    "        valor_condicional = condicional(dicio[prop_correspondente1], dicio[prop_correspondente2])\n",
    "\n",
    "        FBF_separado[indice_prop_1] = \"S\"\n",
    "        FBF_separado.pop(indice_simbolo)\n",
    "        FBF_separado.pop(indice_prop_2)\n",
    "        print(FBF_separado)\n",
    "    \n",
    "        dicio[\"S\"] = valor_condicional\n",
    "        \n",
    "        print(\"Condicional\")\n",
    "        print(valor_condicional)\n",
    "\n",
    "\n",
    "    if \"<>\" in FBF_separado:\n",
    "        indice_simbolo = FBF_separado.index(\"<>\")\n",
    "\n",
    "        # Pega o índice do item anterior ao condicional:\n",
    "        indice_bicond1 = FBF_separado.index(\"<>\") + 1\n",
    "\n",
    "        # Pega o índice do item após o condicional:\n",
    "        indice_bicond2 = FBF_separado.index(\"<>\") - 1\n",
    "\n",
    "        # Recupera a proposição 1 a partir do índice\n",
    "        prop_correspondente1 = FBF_separado[indice_bicond1]\n",
    "\n",
    "        # Recupera a proposição 2 a partir do índice\n",
    "        prop_correspondente2 = FBF_separado[indice_bicond2]\n",
    "\n",
    "        # Aplica a função no valor da proposição que está no dicionário\n",
    "        valor_bicondicional = bicondicional(dicio[prop_correspondente1], dicio[prop_correspondente2])\n",
    "\n",
    "        FBF_separado[indice_prop_1] = \"T\"\n",
    "        FBF_separado.pop(indice_simbolo)\n",
    "        FBF_separado.pop(indice_prop_2)\n",
    "        print(FBF_separado)\n",
    "    \n",
    "        dicio[\"T\"] = valor_bicondicional\n",
    "        \n",
    "        print(\"Bicondicional\")\n",
    "        print(valor_bicondicional)\n",
    "\n",
    "\n",
    "\n",
    "    #if lista_final == [\"V\", \"V\", \"V\", \"V\"]:\n",
    "    #print(f\"{checa_tauto} É UMA TAUTOLOGIA!!!\")"
   ]
  },
  {
   "cell_type": "code",
   "execution_count": 24,
   "id": "00f56593-f851-438b-b31b-f13f6a3bc3fd",
   "metadata": {},
   "outputs": [
    {
     "name": "stdout",
     "output_type": "stream",
     "text": [
      "['~', 'A', '->', 'B']\n",
      "{'A': ['V', 'V', 'F', 'F'], 'B': ['V', 'F', 'V', 'F']}\n",
      "Negação\n",
      "['F', 'F', 'V', 'V']\n"
     ]
    },
    {
     "ename": "NameError",
     "evalue": "name 'indice_prop_1' is not defined",
     "output_type": "error",
     "traceback": [
      "\u001b[1;31m---------------------------------------------------------------------------\u001b[0m",
      "\u001b[1;31mNameError\u001b[0m                                 Traceback (most recent call last)",
      "Cell \u001b[1;32mIn[24], line 1\u001b[0m\n\u001b[1;32m----> 1\u001b[0m \u001b[43mcheca_tauto\u001b[49m\u001b[43m(\u001b[49m\u001b[43mFBF\u001b[49m\u001b[43m)\u001b[49m\n",
      "Cell \u001b[1;32mIn[23], line 135\u001b[0m, in \u001b[0;36mcheca_tauto\u001b[1;34m(FBF)\u001b[0m\n\u001b[0;32m    132\u001b[0m \u001b[38;5;66;03m# Aplica a função no valor da proposição que está no dicionario\u001b[39;00m\n\u001b[0;32m    133\u001b[0m valor_condicional \u001b[38;5;241m=\u001b[39m condicional(dicio[prop_correspondente1], dicio[prop_correspondente2])\n\u001b[1;32m--> 135\u001b[0m FBF_separado[\u001b[43mindice_prop_1\u001b[49m] \u001b[38;5;241m=\u001b[39m \u001b[38;5;124m\"\u001b[39m\u001b[38;5;124mS\u001b[39m\u001b[38;5;124m\"\u001b[39m\n\u001b[0;32m    136\u001b[0m FBF_separado\u001b[38;5;241m.\u001b[39mpop(indice_simbolo)\n\u001b[0;32m    137\u001b[0m FBF_separado\u001b[38;5;241m.\u001b[39mpop(indice_prop_2)\n",
      "\u001b[1;31mNameError\u001b[0m: name 'indice_prop_1' is not defined"
     ]
    }
   ],
   "source": [
    "checa_tauto(FBF)"
   ]
  },
  {
   "cell_type": "code",
   "execution_count": null,
   "id": "8c418579-9883-418c-910d-34f4fd33dab8",
   "metadata": {},
   "outputs": [],
   "source": []
  }
 ],
 "metadata": {
  "kernelspec": {
   "display_name": "ilumpy",
   "language": "python",
   "name": "ilumpy"
  },
  "language_info": {
   "codemirror_mode": {
    "name": "ipython",
    "version": 3
   },
   "file_extension": ".py",
   "mimetype": "text/x-python",
   "name": "python",
   "nbconvert_exporter": "python",
   "pygments_lexer": "ipython3",
   "version": "3.12.7"
  }
 },
 "nbformat": 4,
 "nbformat_minor": 5
}
