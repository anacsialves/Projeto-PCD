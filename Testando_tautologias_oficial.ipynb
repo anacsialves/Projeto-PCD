{
 "cells": [
  {
   "cell_type": "markdown",
   "id": "995160dc-d5e7-4680-a656-34d8cfe6f5b1",
   "metadata": {},
   "source": [
    "# Projeto final de PCD: Testando Tautologias\n",
    "\n"
   ]
  },
  {
   "cell_type": "markdown",
   "id": "27979c94-5bf1-4199-8fbb-9d4caa244a01",
   "metadata": {
    "jp-MarkdownHeadingCollapsed": true
   },
   "source": [
    "### INTRODUÇÃO:"
   ]
  },
  {
   "cell_type": "markdown",
   "id": "ee661cde-c922-409c-a2fb-cdd5784d8812",
   "metadata": {},
   "source": [
    "A lógica proposicional é um tipo de lógica formal, que se baseia na relação de proposições (que podem ou ser falsas ou ser verdadeiras), através de símbolos e regras para analisar a estrutura e a validez dos argumentos, independentemente do seu conteúdo. Há um conjunto de conectivos válidos dentro da lógica proposicional, são eles: \n",
    "\n",
    "* Negação - inverte a valor de uma proposição, se ela for verdadeira, virará falsa (vice e versa). Ela pode ser escrita como \"não\".\n",
    "* Conjunção - retorna Verdadeiro somente se as duas proposições analisadas forem verdadeiras. Caso contrário, retorna Falso. Ela pode ser escrita como \"e\".\n",
    "* Disjunção - retorna Verdadeiro se pelo menos uma das proposições for verdadeira. Caso contrário, retorna Falso. Ela pode ser escrita como \"ou\", sendo esse um \"ou\" inclusivo.\n",
    "* Condicional - retorna Verdadeiro se a proposição antecedente for falsa ou se as duas proposições analisadas são verdadeiras. Caso contrário, retorna Falso. Ele pode ser escrito como \"então\".\n",
    "* Bicondicional - retorna Verdadeiro se as duas proposições analisadas são verdadeiras ou se as duas são falsas. Caso contrário, retorna Falso. Ele pode ser escrito como \"se, e somente se,\".\n",
    "\n",
    "Tautologia, no contexto da lógica proposicional, é uma fórmula cuja tabela verdade apresenta o valor Verdadeiro (V) em todas as possíveis combinações de valores das proposições envolvidas. Isso significa que, independentemente do valor lógico das proposições, o resultado final da expressão será sempre verdadeiro. Tautologias são importantes porque representam argumentos logicamente válidos sob qualquer circunstância.\n",
    "\n",
    "\n",
    "Nesse sentido, o projeto buscou elaborar um código capaz de checar tautologias a partir de frases que são convertidas em Fórmulas Bem Formuladas (FBFs), expressões lógicas válidas, as quais tem como elementos letras (proposições) e símbolos (conectivos). \n",
    "\n",
    "Desse modo, esse notebook funciona da seguinte maneira:\n",
    "\n",
    "* O código recebe a frase do usuário input \"FBF\" na seção \"Recebendo a frase\";\n",
    "* Essa frase é \"traduzida\" para uma FBF de acordo com a \"Tabela de tradução\" (que utiliza símbolos acessíveis no teclado do computador).\n",
    "* Na seção \"Recebendo frases de linguagem natural para A e B\" o usuário informa o que ele dedeja que seja a proposição A e a proposição B.\n",
    "* Ao rodar a última célula de código (na seção \"Testagem\")  usuário chama a função checa_tauto(FBF). Com isso, a FBF (já traduzida) começa a ser processada pela função e retorna a frase inserida indicando se é ou não uma tautologia, além de retornar a tabela verdade gerada no processo.\n",
    "\n",
    "O processamento dentro da função checa_tauto(FBF) considera as funções que foram criadas para cada um dos conectivos válidos, as quais processam as suas tabelas verdades correspondentes. \n",
    "\n",
    "\n",
    "\n",
    "  \n",
    "    \n",
    "    \n",
    "    "
   ]
  },
  {
   "cell_type": "markdown",
   "id": "1fddfef0-bf0f-4995-ba1d-9eac63a7b94e",
   "metadata": {
    "jp-MarkdownHeadingCollapsed": true
   },
   "source": [
    "## Tabela de tradução"
   ]
  },
  {
   "cell_type": "markdown",
   "id": "c44fe556-5bf7-4342-8333-08ca1460271d",
   "metadata": {},
   "source": [
    "Essa tabela serve como instrução para converter a frase recebida em uma Fórmula Bem Formulada (FBF). Essa conversão é feita automaticamente pelo código."
   ]
  },
  {
   "cell_type": "code",
   "execution_count": 7,
   "id": "5631a3a6-e5d9-4110-b7df-f5fce00b513d",
   "metadata": {},
   "outputs": [
    {
     "name": "stdout",
     "output_type": "stream",
     "text": [
      "+---------------+-----------------+------------+\n",
      "| Conectivo     | Escreva:        | Símbolo:   |\n",
      "+===============+=================+============+\n",
      "| Negação       | não             | ~          |\n",
      "+---------------+-----------------+------------+\n",
      "| Condicional   | então           | ->         |\n",
      "+---------------+-----------------+------------+\n",
      "| Bicondicional | se e somente se | <>         |\n",
      "+---------------+-----------------+------------+\n",
      "| Conjunção     | e               | ^          |\n",
      "+---------------+-----------------+------------+\n",
      "| Disjunção     | ou              | <          |\n",
      "+---------------+-----------------+------------+\n"
     ]
    }
   ],
   "source": [
    "from tabulate import tabulate\n",
    " \n",
    " \n",
    "a = [\n",
    "    [\"Negação\", \"não\", \"~\"], \n",
    "    [\"Condicional\", \"então\", \"->\"], \n",
    "    [\"Bicondicional\", \"se e somente se\", \"<>\"], \n",
    "    [\"Conjunção\", \"e\", \"^\"],\n",
    "    [\"Disjunção\", \"ou\", \"<\"]\n",
    "]\n",
    " \n",
    "# Cria nomes das colunas\n",
    "colunas = [\"Conectivo\", \"Escreva:\", \"Símbolo:\"]\n",
    " \n",
    "print(tabulate(a, headers=colunas, tablefmt=\"grid\"))"
   ]
  },
  {
   "cell_type": "markdown",
   "id": "b14bdbb8-6cde-4570-b332-5d1c357fd99f",
   "metadata": {},
   "source": [
    "## Processando a \"frase\""
   ]
  },
  {
   "cell_type": "markdown",
   "id": "6fb79d11-5e34-4f4f-8a24-e4bb78d17e1d",
   "metadata": {},
   "source": [
    "### Recebendo a \"frase\""
   ]
  },
  {
   "cell_type": "markdown",
   "id": "b7a8abfa-9f3e-4e53-a758-4ac980fec98f",
   "metadata": {},
   "source": [
    "Esse é o input gerado para receber a frase do usuário. A frase deve seguir o seguinte modelo: ter quaisquer proposições escritas em letras maiúsculas e ter conectivos escritos conforme instruções abaixo.\n",
    "\n",
    "Os conectivos devem ser escritos da seguinte maneira:\n",
    "\n",
    "* negação - não\n",
    "* condicional - então\n",
    "* bicondicional - se e somente se\n",
    "* conjunção - e\n",
    "* disjunção - ou\n",
    "\n",
    "Exemplo de frase recebida pelo input: A e B então C"
   ]
  },
  {
   "cell_type": "code",
   "execution_count": 99,
   "id": "e5cfd49c-9519-45dd-837f-f30ce916eba1",
   "metadata": {},
   "outputs": [
    {
     "name": "stdin",
     "output_type": "stream",
     "text": [
      "Digite o que você quer verificar se é uma tautologia: A e B então A\n"
     ]
    }
   ],
   "source": [
    "FBF = input(\"Digite o que você quer verificar se é uma tautologia:\")"
   ]
  },
  {
   "cell_type": "markdown",
   "id": "1152097a-75c4-437c-b1d1-35005245fe53",
   "metadata": {},
   "source": [
    "### Aplicando a tradução"
   ]
  },
  {
   "cell_type": "markdown",
   "id": "c7a74eac-856d-48ba-b6a4-cb989d74e4cb",
   "metadata": {},
   "source": [
    "\"Traduz\" a frase para o formato de Fórmula Bem Formulada (FBF), utilizando símbolos de acordo com a \"Tabela de tradução\"."
   ]
  },
  {
   "cell_type": "code",
   "execution_count": 100,
   "id": "4bcd758f-5841-4333-931e-ae131019b8bd",
   "metadata": {},
   "outputs": [
    {
     "name": "stdout",
     "output_type": "stream",
     "text": [
      "FBF original = A e B então A\n",
      "cópia traduzida = A ^ B -> A\n"
     ]
    }
   ],
   "source": [
    "FBF_copia = FBF\n",
    "\n",
    "FBF_copia = FBF_copia.replace(\"não\",\"~\")\n",
    "FBF_copia = FBF_copia.replace(\"então\",\"->\")\n",
    "FBF_copia = FBF_copia.replace(\"se e somente se\",\"<>\")\n",
    "FBF_copia = FBF_copia.replace (\"e\",\"^\")\n",
    "FBF_copia = FBF_copia.replace(\"ou\",\"<\")\n",
    "\n",
    "print(f\"FBF original = {FBF}\")\n",
    "print(f\"cópia traduzida = {FBF_copia}\")"
   ]
  },
  {
   "cell_type": "markdown",
   "id": "117d9e60-031e-44ea-858a-8ab5013f80cc",
   "metadata": {},
   "source": [
    "### Recebendo frases de linguagem natural para cada proposição:"
   ]
  },
  {
   "cell_type": "markdown",
   "id": "9f056d18-e882-4d39-a3ee-eac0d2cc2724",
   "metadata": {},
   "source": [
    "Pede para o usuário informar o que ele deseja que sejam as proposições por ele fornecidas.\n",
    "Esse passo não é obrigatório para provar se a frase proposta pelo usuário é uma tautologia, porém, deixa a frase mais concreta para o usuário.\n",
    "\n",
    "Exemplo:\n",
    "\n",
    "* uma proposição A pode ser: está chovendo\n",
    "* uma proposição B pode ser: o chão está molhado\n",
    "\n",
    "Elas são proposições pois são afirmações que podem ser verdadeiras ou falsas."
   ]
  },
  {
   "cell_type": "code",
   "execution_count": null,
   "id": "a26f4458-ee00-4872-a369-d81ea876b4cd",
   "metadata": {},
   "outputs": [
    {
     "name": "stdout",
     "output_type": "stream",
     "text": [
      "['B', 'A']\n"
     ]
    },
    {
     "name": "stdin",
     "output_type": "stream",
     "text": [
      "Qual a sua proposição B? o chão está molhado\n"
     ]
    }
   ],
   "source": [
    "FBF_separado = FBF_copia.split(\" \")\n",
    "lista_letras_inicial = []\n",
    "for item in FBF_separado:\n",
    "    if item.isalnum() == True:\n",
    "        lista_letras_inicial.append(item)\n",
    "        \n",
    "lista_letras_inicial = list(set(lista_letras_inicial))\n",
    "\n",
    "print(lista_letras_inicial)\n",
    "\n",
    "lista_prop = []\n",
    "\n",
    "for i in range(len(lista_letras_inicial)):\n",
    "    lista_prop.append(input(f\"Qual a sua proposição {lista_letras_inicial[i]}?\"))\n",
    "\n",
    "FBF_nat = FBF\n",
    "FBF_nat = FBF_nat.replace(\"não\", \"nego que\")\n",
    "\n",
    "for letra, prop in zip(lista_letras_inicial, lista_prop):\n",
    "    FBF_nat = FBF_nat.replace(letra , prop)\n",
    "\n",
    "print(\"A afirmação que você quer verificar se é tautologia é:\", FBF_nat)"
   ]
  },
  {
   "cell_type": "markdown",
   "id": "7dd3321e-4aa0-4829-aa7f-02cc261726e0",
   "metadata": {
    "jp-MarkdownHeadingCollapsed": true
   },
   "source": [
    "## Funções para cada conectivo"
   ]
  },
  {
   "cell_type": "markdown",
   "id": "4565b151-fbd7-4e73-858c-f8d11da1b883",
   "metadata": {},
   "source": [
    "Essas funções são chamadas dentro da função principal para processar os valores \"V\" e \"F\" das proposições de acordo com o conectivo correspondente (há uma função para cada conectivo)."
   ]
  },
  {
   "cell_type": "markdown",
   "id": "0ef6700a-b95d-4561-9dab-1d60b74c159e",
   "metadata": {},
   "source": [
    "### Negação"
   ]
  },
  {
   "cell_type": "code",
   "execution_count": 78,
   "id": "0710bd9a-df12-4872-a786-05e5a5068f19",
   "metadata": {},
   "outputs": [],
   "source": [
    "def negaçao(lista):\n",
    "\n",
    "    \"\"\"Aplica o conectivo de negação na proposição recebida                                                                                                                     \n",
    "    Args:\n",
    "        lista: lista referente a proposição antes da negação, com valores de V e F                                                                                                                                                                                            \n",
    "    Returns:\n",
    "        lista_neg: lista negada, ou seja, com os valores de V e F invertidos.\"\"\"\n",
    "    \n",
    "    lista_neg = []\n",
    "\n",
    "    for a in lista:\n",
    "        if a == \"V\":\n",
    "            lista_neg.append(\"F\")\n",
    "        else:\n",
    "            lista_neg.append(\"V\")\n",
    "            \n",
    "    return lista_neg"
   ]
  },
  {
   "cell_type": "markdown",
   "id": "d2682c2a-a88e-4908-b76f-cb38193fe15e",
   "metadata": {},
   "source": [
    "### Conjunção"
   ]
  },
  {
   "cell_type": "code",
   "execution_count": 79,
   "id": "d0c63fd9-5300-49cf-8a05-a9304e592103",
   "metadata": {},
   "outputs": [],
   "source": [
    "def conjunçao(listaA, listaB):\n",
    "\n",
    "    \"\"\"Aplica o conectivo de conjunção considerando duas proposições\n",
    "    Args:\n",
    "      listaA: lista referente a proposição antes da conjunção, com valores de V e F\n",
    "      listaB: lista referente a proposição depois da conjunção, com valores de V e F                                                                                                                                       \n",
    "    Returns:\n",
    "      lista_conj: uma lista  de V e F que surge a partir da aplicação do conectivo lógico \"conjunção\" nas duas proposições recebidas pela função.\"\"\"\n",
    "\n",
    "    lista_conj = []\n",
    "\n",
    "    for a, b in zip(listaA, listaB):\n",
    "        if a == \"V\" and b ==\"V\":\n",
    "            lista_conj.append(\"V\")\n",
    "        else:\n",
    "            lista_conj.append(\"F\")\n",
    "            \n",
    "    return lista_conj"
   ]
  },
  {
   "cell_type": "markdown",
   "id": "2435bf62-d050-4664-8f7f-a0523fb1d3af",
   "metadata": {},
   "source": [
    "### Disjunção"
   ]
  },
  {
   "cell_type": "code",
   "execution_count": 80,
   "id": "337ff8db-0d1b-443b-b01e-1023ab61a124",
   "metadata": {},
   "outputs": [],
   "source": [
    "def disjunçao(listaA, listaB):\n",
    "\n",
    "    \"\"\"Aplica o conectivo de disjunção considerando duas proposições\n",
    "    Args:\n",
    "      listaA: lista referente a proposição antes da disjunção, com valores de V e F\n",
    "      listaB: lista referente a proposição depois da disjunção, com valores de V e F                                                                                                                                       \n",
    "    Returns:\n",
    "      lista_disj: uma lista de V e F que surge a partir da aplicação do conectivo lógico \"disjunção\" nas duas proposições recebidas pela função.\"\"\"\n",
    "\n",
    "    lista_disj = []\n",
    "\n",
    "    for a, b in zip(listaA, listaB):\n",
    "        if a == \"F\" and b ==\"F\":\n",
    "            lista_disj.append(\"F\")\n",
    "        else:\n",
    "            lista_disj.append(\"V\")\n",
    "        \n",
    "    return lista_disj"
   ]
  },
  {
   "cell_type": "markdown",
   "id": "7316f4ce-6577-4157-af6f-32b1083a1b17",
   "metadata": {},
   "source": [
    "### Condicional"
   ]
  },
  {
   "cell_type": "code",
   "execution_count": 81,
   "id": "cc02bb18-2a78-4cc9-a656-41ee11aa85a1",
   "metadata": {},
   "outputs": [],
   "source": [
    "def condicional(listaA, listaB):\n",
    "    \n",
    "    \"\"\"Aplica o conectivo de condicional considerando duas proposições\n",
    "    Args:\n",
    "      listaA: lista referente a proposição antes do condicional, com valores de V e F\n",
    "      listaB: lista referente a proposição depois do condicional, com valores de V e F                                                                                                                                       \n",
    "    Returns:\n",
    "      lista_cond: uma lista  de V e F que surge a partir da aplicação do conectivo lógico \"condicional\" nas duas proposições recebidas pela função.\"\"\"\n",
    "\n",
    "    lista_cond = []\n",
    "\n",
    "    for a, b in zip(listaA, listaB):\n",
    "        if a == \"V\" and b ==\"F\":\n",
    "            lista_cond.append(\"F\")\n",
    "        else:\n",
    "            lista_cond.append(\"V\")\n",
    "        \n",
    "    return lista_cond"
   ]
  },
  {
   "cell_type": "markdown",
   "id": "d5524ba0-07c7-47d4-98de-0e8a1e188b68",
   "metadata": {},
   "source": [
    "### Bicondicional"
   ]
  },
  {
   "cell_type": "code",
   "execution_count": 82,
   "id": "bc65d337-5525-4a20-b6e5-b97873edd4d7",
   "metadata": {},
   "outputs": [],
   "source": [
    "def bicondicional(listaA, listaB):\n",
    "    \n",
    "    \"\"\"Aplica o conectivo de bicondicional considerando duas proposições\n",
    "    Args:\n",
    "      listaA: lista referente a proposição antes da bicondicional, com valores de V e F\n",
    "      listaB: lista referente a proposição depois da bicondicional, com valores de V e F                                                                                                                                       \n",
    "    Returns:\n",
    "      lista_bicond: uma lista de V e F que surge a partir da aplicação do conectivo lógico \"bicondicional\" nas duas proposições recebidas pela função.\"\"\"\n",
    "\n",
    "    lista_bicond = []\n",
    "\n",
    "    for a, b in zip(listaA, listaB):\n",
    "        if a == b:\n",
    "            lista_bicond.append(\"V\")\n",
    "        else:\n",
    "            lista_bicond.append(\"F\")\n",
    "\n",
    "    return lista_bicond"
   ]
  },
  {
   "cell_type": "markdown",
   "id": "7c669411-ee86-46cd-8348-8ff8562a4b91",
   "metadata": {
    "jp-MarkdownHeadingCollapsed": true
   },
   "source": [
    "## Ordenador por prioridade"
   ]
  },
  {
   "cell_type": "markdown",
   "id": "dcb5f35b-72f6-4703-820f-e8c169d6daf0",
   "metadata": {},
   "source": [
    "A seguinte função foi feita para que seja possível repetir um mesmo conectivo e respeitar a ordem de resolução para verificar se uma FBF é uma tautologia. \n",
    "\n",
    "A ordem de resolução segue abaixo:\n",
    "\n",
    "* negação - não\n",
    "* conjunção - e\n",
    "* disjunção - ou\n",
    "* condicional - então\n",
    "* bicondicional - se e somente se\n",
    "\n",
    "Aqui os dados foram estruturados em dicionário para que fosse possível atribuir uma expressão à uma chave e então resgatá-la para a resolução do problema."
   ]
  },
  {
   "cell_type": "code",
   "execution_count": 83,
   "id": "44ef9644-4462-4298-a462-72175819def8",
   "metadata": {},
   "outputs": [],
   "source": [
    "def ordenador_de_prioridade(FBF):\n",
    "\n",
    "    # Divisão FBF por espaços\n",
    "    FBF_separado = FBF_copia.split(\" \")\n",
    "    FBF_separado_pode_mudar = FBF_separado.copy()\n",
    "    \n",
    "    dicio_ordenador = {}\n",
    "    lista_conectivos = []\n",
    "        \n",
    "    for item in FBF_separado:\n",
    "        if item.isalnum() == False:\n",
    "            lista_conectivos.append(item)\n",
    "\n",
    "    # Cria uma chave numérica de dicionário para cada conectivo presente na FBF\n",
    "    for i in range(len(lista_conectivos)):\n",
    "        dicio_ordenador[i] = []\n",
    "\n",
    "    # Faz-se uma lista com cada chave do dicionário\n",
    "    lista_chaves = list(dicio_ordenador.keys())\n",
    "\n",
    "    \n",
    "    for itens in FBF_separado_pode_mudar:\n",
    "        for item in FBF_separado_pode_mudar:\n",
    "            if item == \"~\":\n",
    "                # Encontra-se o índice do conectivo e das proposições envolvidas\n",
    "                neg_index = FBF_separado_pode_mudar.index(item)\n",
    "                prop_index = FBF_separado_pode_mudar.index(item) + 1\n",
    "                # Recupera-se o conectivo e proposições pelos índices\n",
    "                neg = FBF_separado_pode_mudar[neg_index]\n",
    "                prop = FBF_separado_pode_mudar[prop_index]\n",
    "    \n",
    "                # Acrescenta o conectivo e proposições na lista valor da primeira chave vazia\n",
    "                primeira_chave = lista_chaves[0]\n",
    "                dicio_ordenador[primeira_chave].append(neg)\n",
    "                dicio_ordenador[primeira_chave].append(prop)\n",
    "    \n",
    "                # Substitui o conectivo e proposição dentro da FBF\n",
    "                FBF_separado_pode_mudar.insert(prop_index + 1, primeira_chave)\n",
    "                lista_chaves.pop(0)\n",
    "                FBF_separado_pode_mudar.pop(prop_index)\n",
    "                FBF_separado_pode_mudar.pop(neg_index)\n",
    "\n",
    "        # O mesmo passo a passo se repete para a conjunção e os outros conectivos, em ordem de prioridade\n",
    "        for item in FBF_separado_pode_mudar:\n",
    "            if item == \"^\":\n",
    "                conj_index = FBF_separado_pode_mudar.index(item)\n",
    "                prop1_index = FBF_separado_pode_mudar.index(item) - 1\n",
    "                prop2_index = FBF_separado_pode_mudar.index(item) + 1\n",
    "                conj = FBF_separado_pode_mudar[conj_index]\n",
    "                prop1 = FBF_separado_pode_mudar[prop1_index]\n",
    "                prop2 = FBF_separado_pode_mudar[prop2_index]\n",
    "        \n",
    "                primeira_chave = lista_chaves[0]\n",
    "                dicio_ordenador[primeira_chave].append(prop1)\n",
    "                dicio_ordenador[primeira_chave].append(conj)\n",
    "                dicio_ordenador[primeira_chave].append(prop2)\n",
    "        \n",
    "                FBF_separado_pode_mudar.insert(prop2_index + 1, primeira_chave)\n",
    "                lista_chaves.pop(0)\n",
    "                FBF_separado_pode_mudar.pop(prop2_index)\n",
    "                FBF_separado_pode_mudar.pop(conj_index)\n",
    "                FBF_separado_pode_mudar.pop(prop1_index)\n",
    "\n",
    "        for item in FBF_separado_pode_mudar:\n",
    "            if item == \"<\":\n",
    "                disj_index = FBF_separado_pode_mudar.index(item)\n",
    "                prop1_index = FBF_separado_pode_mudar.index(item) - 1\n",
    "                prop2_index = FBF_separado_pode_mudar.index(item) + 1\n",
    "                disj = FBF_separado_pode_mudar[disj_index]\n",
    "                prop1 = FBF_separado_pode_mudar[prop1_index]\n",
    "                prop2 = FBF_separado_pode_mudar[prop2_index]\n",
    "        \n",
    "                primeira_chave = lista_chaves[0]\n",
    "                dicio_ordenador[primeira_chave].append(prop1)\n",
    "                dicio_ordenador[primeira_chave].append(disj)\n",
    "                dicio_ordenador[primeira_chave].append(prop2)\n",
    "        \n",
    "                FBF_separado_pode_mudar.insert(prop2_index + 1, primeira_chave)\n",
    "                lista_chaves.pop(0)\n",
    "                FBF_separado_pode_mudar.pop(prop2_index)\n",
    "                FBF_separado_pode_mudar.pop(disj_index)\n",
    "                FBF_separado_pode_mudar.pop(prop1_index)\n",
    "\n",
    "\n",
    "        for item in FBF_separado_pode_mudar:\n",
    "            if item == \"->\":\n",
    "                cond_index = FBF_separado_pode_mudar.index(item)\n",
    "                prop1_index = FBF_separado_pode_mudar.index(item) - 1\n",
    "                prop2_index = FBF_separado_pode_mudar.index(item) + 1\n",
    "                cond = FBF_separado_pode_mudar[cond_index]\n",
    "                prop1 = FBF_separado_pode_mudar[prop1_index]\n",
    "                prop2 = FBF_separado_pode_mudar[prop2_index]\n",
    "        \n",
    "                primeira_chave = lista_chaves[0]\n",
    "                dicio_ordenador[primeira_chave].append(prop1)\n",
    "                dicio_ordenador[primeira_chave].append(cond)\n",
    "                dicio_ordenador[primeira_chave].append(prop2)\n",
    "        \n",
    "                FBF_separado_pode_mudar.insert(prop2_index + 1, primeira_chave)\n",
    "                lista_chaves.pop(0)\n",
    "                FBF_separado_pode_mudar.pop(prop2_index)\n",
    "                FBF_separado_pode_mudar.pop(cond_index)\n",
    "                FBF_separado_pode_mudar.pop(prop1_index)\n",
    "\n",
    "        for item in FBF_separado_pode_mudar:\n",
    "            if item == \"<>\":\n",
    "                bicond_index = FBF_separado_pode_mudar.index(item)\n",
    "                prop1_index = FBF_separado_pode_mudar.index(item) - 1\n",
    "                prop2_index = FBF_separado_pode_mudar.index(item) + 1\n",
    "                bicond = FBF_separado_pode_mudar[bicond_index]\n",
    "                prop1 = FBF_separado_pode_mudar[prop1_index]\n",
    "                prop2 = FBF_separado_pode_mudar[prop2_index]\n",
    "        \n",
    "                primeira_chave = lista_chaves[0]\n",
    "                dicio_ordenador[primeira_chave].append(prop1)\n",
    "                dicio_ordenador[primeira_chave].append(bicond)\n",
    "                dicio_ordenador[primeira_chave].append(prop2)\n",
    "        \n",
    "                FBF_separado_pode_mudar.insert(prop2_index + 1, primeira_chave)\n",
    "                lista_chaves.pop(0)\n",
    "                FBF_separado_pode_mudar.pop(prop2_index)\n",
    "                FBF_separado_pode_mudar.pop(bicond_index)\n",
    "                FBF_separado_pode_mudar.pop(prop1_index)\n",
    "                \n",
    "    return dicio_ordenador"
   ]
  },
  {
   "cell_type": "markdown",
   "id": "01d22b6b-aebc-498c-815f-b5ca28219587",
   "metadata": {
    "jp-MarkdownHeadingCollapsed": true
   },
   "source": [
    "## Função Principal"
   ]
  },
  {
   "cell_type": "markdown",
   "id": "dcaee617-559e-4064-87c3-eef558fdf764",
   "metadata": {},
   "source": [
    "Essa é a função principal, pois é responsável por checar as tautologias. Ela recebe como argumento a frase já convertida em FBF. Os conectivos e proposições dessa FBF são processados para chamar as funções dos conectivos correspondentes e, então, retornar os valores lógicos (V ou F) da FBF e verificar se eles indicam uma tautologia."
   ]
  },
  {
   "cell_type": "code",
   "execution_count": 84,
   "id": "07c009e7-ef66-48a8-9768-92e6d445dac3",
   "metadata": {},
   "outputs": [],
   "source": [
    "from tabulate import tabulate\n",
    "\n",
    "def checa_tauto(FBF):\n",
    "    \"\"\" Processa A FBF gerada a partir da entrada do usuário. Chama as demais funções quando são necessárias.\n",
    "    Args:\n",
    "        FBF: Uma fórmula bem formulada (string).\n",
    "    Returns:\n",
    "        Retorna por escrito se a FBF é ou não uma tautologia e a respectiva tabela verdade.\n",
    "    \"\"\"\n",
    "    \n",
    "    # Divisão da FBF por espaços\n",
    "    FBF_separado = FBF_copia.split(\" \")\n",
    "    \n",
    "    lista_letras = []\n",
    "    \n",
    "    for item in FBF_separado:\n",
    "        if item.isalnum() == True:\n",
    "            lista_letras.append(item)\n",
    "            \n",
    "    # Transformação em conjunto então em lista, para evitar repetições\n",
    "    lista_letras = list(set(lista_letras))\n",
    "    \n",
    "    # Faz um dicionário com as proposições dadas\n",
    "    tabela_verdade = {}\n",
    "    comprimento = 2**len(lista_letras)\n",
    "    comprimento_mutavel = comprimento\n",
    "\n",
    "    for item in lista_letras:\n",
    "        tabela_verdade[item] = []\n",
    "    \n",
    "    for chave, valor in tabela_verdade.items():\n",
    "        comprimento_mutavel = int(comprimento_mutavel/2)\n",
    "        Vs = []\n",
    "        Fs = []\n",
    "        for i in range(comprimento_mutavel):\n",
    "            Vs.append(\"V\")\n",
    "            Fs.append(\"F\")\n",
    "    \n",
    "        while len(valor) < comprimento:\n",
    "            valor = valor + Vs\n",
    "            valor = valor + Fs\n",
    "        tabela_verdade[chave] = valor\n",
    "\n",
    "    # Constrói o dicionário de prioridades com a função previamente definida\n",
    "    dicio_prioridades = ordenador_de_prioridade(FBF)\n",
    "\n",
    "    for chave, valor in dicio_prioridades.items():\n",
    "        # Aplica a negação\n",
    "        if \"~\" in valor:\n",
    "            \n",
    "            # Pega o índice do item seguinte à negação:\n",
    "            indice_neg = valor.index(\"~\") + 1\n",
    "                \n",
    "            # Recupera o elemento do índice\n",
    "            prop_correspondente = valor[indice_neg]\n",
    "        \n",
    "            # Aplica a função no valor da proposição que está no dicionário:\n",
    "            valor_negado = negaçao(tabela_verdade[prop_correspondente])\n",
    "\n",
    "            # Cria uma variável para atriuir à chave na tabela verdade a \"operação\" sendo feita\n",
    "            chave_corrigida = f\"~ {prop_correspondente}\"\n",
    "            tabela_verdade[chave_corrigida] = valor_negado\n",
    "\n",
    "            for valores in dicio_prioridades.values():\n",
    "                if chave in valores:\n",
    "                    chave_indx = valores.index(chave)\n",
    "                    valores[chave_indx] = chave_corrigida\n",
    "        \n",
    "            \n",
    "        # Aplica a conjunção:\n",
    "        if \"^\" in valor:\n",
    "                \n",
    "            # Pega o índice do item anterior à conjunção:\n",
    "            indice_conj1 = valor.index(\"^\") - 1\n",
    "        \n",
    "            # Pega o índice do item seguinte à conjunção:\n",
    "            indice_conj2 = valor.index(\"^\") + 1\n",
    "        \n",
    "            # Recupera o elemento do índice:\n",
    "            prop_correspondente1 = valor[indice_conj1]\n",
    "            prop_correspondente2 = valor[indice_conj2]\n",
    "        \n",
    "            # Aplica a função no valor da proposição que está no dicionário\n",
    "            valor_conjunçao = conjunçao(tabela_verdade[prop_correspondente1], tabela_verdade[prop_correspondente2])\n",
    "\n",
    "            # Cria uma variável para atriuir à chave na tabela verdade a \"operação\" sendo feita\n",
    "            chave_corrigida = f\"{prop_correspondente1} ^ {prop_correspondente2}\"\n",
    "            tabela_verdade[chave_corrigida] = valor_conjunçao\n",
    "            \n",
    "            for valores in dicio_prioridades.values():\n",
    "                if chave in valores:\n",
    "                    chave_indx = valores.index(chave)\n",
    "                    valores[chave_indx] = chave_corrigida\n",
    "\n",
    "        # Aplica a disjunção:\n",
    "        if \"<\" in valor:\n",
    "                \n",
    "            # Pega o índice do item anterior à disjunção:\n",
    "            indice_disj1 = valor.index(\"<\") - 1\n",
    "        \n",
    "            # Pega o índice do item seguinte à disjunção:\n",
    "            indice_disj2 = valor.index(\"<\") + 1\n",
    "        \n",
    "            # Recupera o elemento do índice:\n",
    "            prop_correspondente1 = valor[indice_disj1]\n",
    "                \n",
    "            # Recupera o elemento do índice:\n",
    "            prop_correspondente2 = valor[indice_disj2]\n",
    "        \n",
    "            # Aplica a função na proposição que está no dicionário:\n",
    "            valor_disjunçao = disjunçao(tabela_verdade[prop_correspondente1], tabela_verdade[prop_correspondente2])\n",
    "        \n",
    "            # Cria uma variável para atriuir à chave na tabela verdade a \"operação\" sendo feita\n",
    "            chave_corrigida = f\"{prop_correspondente1} < {prop_correspondente2}\"\n",
    "            tabela_verdade[chave_corrigida] = valor_disjunçao\n",
    "            \n",
    "            for valores in dicio_prioridades.values():\n",
    "                if chave in valores:\n",
    "                    chave_indx = valores.index(chave)\n",
    "                    valores[chave_indx] = chave_corrigida\n",
    "\n",
    "        # Aplica o condicional:\n",
    "        if \"->\" in valor:\n",
    "                \n",
    "            # Pega o índice do item anerior ao condicional:\n",
    "            indice_cond1 = valor.index(\"->\") - 1\n",
    "        \n",
    "            # Pega o índice do item após o condicional:\n",
    "            indice_cond2 = valor.index(\"->\") + 1\n",
    "        \n",
    "            # Recupera a proposição 1 a partir do índice\n",
    "            prop_correspondente1 = valor[indice_cond1]\n",
    "        \n",
    "            # Recupera a proposição 2 a partir do índice\n",
    "            prop_correspondente2 = valor[indice_cond2]\n",
    "        \n",
    "            # Aplica a função na proposição que está no dicionário:\n",
    "            valor_condicional = condicional(tabela_verdade[prop_correspondente1], tabela_verdade[prop_correspondente2])\n",
    "        \n",
    "            # Cria uma variável para atriuir à chave na tabela verdade a \"operação\" sendo feita\n",
    "            chave_corrigida = f\"{prop_correspondente1} -> {prop_correspondente2}\"\n",
    "            tabela_verdade[chave_corrigida] = valor_condicional\n",
    "            \n",
    "            for valores in dicio_prioridades.values():\n",
    "                if chave in valores:\n",
    "                    chave_indx = valores.index(chave)\n",
    "                    valores[chave_indx] = chave_corrigida\n",
    "\n",
    "        # Aplica o bicondicional\n",
    "        if \"<>\" in valor:\n",
    "        \n",
    "            # Pega o índice do item anterior ao bicondicional:\n",
    "            indice_bicond1 = valor.index(\"<>\") - 1\n",
    "        \n",
    "            # Pega o índice do item após o bicondicional:\n",
    "            indice_bicond2 = valor.index(\"<>\") + 1\n",
    "        \n",
    "            # Recupera a proposição 1 a partir do índice\n",
    "            prop_correspondente1 = valor[indice_bicond1]\n",
    "        \n",
    "            # Recupera a proposição 2 a partir do índice\n",
    "            prop_correspondente2 = valor[indice_bicond2]\n",
    "        \n",
    "            # Aplica a função no valor da proposição que está no dicionário\n",
    "            valor_bicondicional = bicondicional(tabela_verdade[prop_correspondente1], tabela_verdade[prop_correspondente2])\n",
    "                \n",
    "            chave_corrigida = f\"{prop_correspondente1} <> {prop_correspondente2}\"\n",
    "            tabela_verdade[chave_corrigida] = valor_bicondicional\n",
    "            \n",
    "            for valores in dicio_prioridades.values():\n",
    "                if chave in valores:\n",
    "                    chave_indx = valores.index(chave)\n",
    "                    valores[chave_indx] = chave_corrigida\n",
    "\n",
    "    lista_dicio = list(tabela_verdade.keys())\n",
    "    ultimo_valor = lista_dicio[-1]\n",
    "    lista_final = tabela_verdade[ultimo_valor]\n",
    "\n",
    "    print(tabulate(tabela_verdade, headers=\"keys\", tablefmt=\"grid\")) \n",
    "    if lista_final == [\"V\", \"V\", \"V\", \"V\"]:\n",
    "        return f'\"{FBF_nat}\" é uma TAUTOLOGIA!!!'\n",
    "    else:\n",
    "        return f'\"{FBF_nat}\" NÃO é uma TAUTOLOGIA!!'"
   ]
  },
  {
   "cell_type": "markdown",
   "id": "241fc7b7-e3e4-450c-98bb-6417dfae8392",
   "metadata": {},
   "source": [
    "## TESTAGEM:"
   ]
  },
  {
   "cell_type": "markdown",
   "id": "56c9707e-2897-45c5-83df-adfbc39d32ba",
   "metadata": {},
   "source": [
    "Chama a função principal para checar se é tautologia"
   ]
  },
  {
   "cell_type": "code",
   "execution_count": 98,
   "id": "00f56593-f851-438b-b31b-f13f6a3bc3fd",
   "metadata": {},
   "outputs": [
    {
     "name": "stdout",
     "output_type": "stream",
     "text": [
      "+-----+-----+-------+-----------+----------------+\n",
      "| C   | B   | ~ C   | C ^ ~ C   | C ^ ~ C -> B   |\n",
      "+=====+=====+=======+===========+================+\n",
      "| V   | V   | F     | F         | V              |\n",
      "+-----+-----+-------+-----------+----------------+\n",
      "| V   | F   | F     | F         | V              |\n",
      "+-----+-----+-------+-----------+----------------+\n",
      "| F   | V   | V     | F         | V              |\n",
      "+-----+-----+-------+-----------+----------------+\n",
      "| F   | F   | V     | F         | V              |\n",
      "+-----+-----+-------+-----------+----------------+\n"
     ]
    },
    {
     "data": {
      "text/plain": [
       "'\"está chovendo e nego que está chovendo então o chão está molhado\" é uma TAUTOLOGIA!!!'"
      ]
     },
     "execution_count": 98,
     "metadata": {},
     "output_type": "execute_result"
    }
   ],
   "source": [
    "checa_tauto(FBF)"
   ]
  },
  {
   "cell_type": "markdown",
   "id": "21fd2d1a-f09e-4be1-b97a-2c4fb22fdc02",
   "metadata": {},
   "source": [
    "## CONCLUSÃO:"
   ]
  },
  {
   "cell_type": "markdown",
   "id": "1900ae7c-85c3-47a5-8936-925e2e499353",
   "metadata": {},
   "source": [
    "O projeto apresentado demonstra, por meio da linguagem de programação Python, como a lógica proposicional pode ser aplicada computacionalmente para identificar tautologias. Através da entrada de fórmulas bem formuladas (FBFs) e da construção automatizada de suas tabelas verdade, é possível verificar se uma expressão lógica é verdadeira em todas as combinações possíveis de valores das proposições envolvidas.\n",
    "\n",
    "Além de servir como ferramenta prática para estudantes da lógica, o notebook também reforça conceitos fundamentais como os conectivos lógicos, a estrutura das FBFs e o próprio conceito de tautologia. O uso do código para simular o raciocínio lógico permite explorar de forma interativa a validade das proposições sem depender de interpretações do conteúdo."
   ]
  }
 ],
 "metadata": {
  "kernelspec": {
   "display_name": "ilumpy",
   "language": "python",
   "name": "ilumpy"
  },
  "language_info": {
   "codemirror_mode": {
    "name": "ipython",
    "version": 3
   },
   "file_extension": ".py",
   "mimetype": "text/x-python",
   "name": "python",
   "nbconvert_exporter": "python",
   "pygments_lexer": "ipython3",
   "version": "3.12.7"
  }
 },
 "nbformat": 4,
 "nbformat_minor": 5
}
